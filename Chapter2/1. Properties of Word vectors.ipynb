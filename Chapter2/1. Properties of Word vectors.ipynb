{
 "cells": [
  {
   "cell_type": "markdown",
   "metadata": {},
   "source": [
    "# Some properties of word vectors:"
   ]
  },
  {
   "cell_type": "markdown",
   "metadata": {},
   "source": [
    "\"You shall know a word by the company it keeps\" - John Rupert Firth"
   ]
  },
  {
   "cell_type": "markdown",
   "metadata": {},
   "source": [
    "#### Note: Most of the Deep Learning success in the NLP industry is because of the ability to represent words as vectors in n-dimensional space"
   ]
  },
  {
   "cell_type": "markdown",
   "metadata": {},
   "source": [
    "### Properties of words vectors"
   ]
  },
  {
   "cell_type": "markdown",
   "metadata": {},
   "source": [
    "1. Synonyms and Mis-spelled words should be very close to each other(e.h Hotel, Motel, Hotle etc)\n",
    "2. Closely \"related\" words should be close to each other(Days of the week)\n",
    "3. Completely unrelated words should be far apart in the vector space(Java, Sunday etc)\n",
    "4. The length and the dimensions of the vector represent a real world entity for a specific domain\n",
    "5. The power of Word vectors comes from the continous representation in an n-dimensional space"
   ]
  },
  {
   "cell_type": "markdown",
   "metadata": {},
   "source": [
    "### Limitations of One-hot vectors"
   ]
  },
  {
   "cell_type": "markdown",
   "metadata": {},
   "source": [
    "1. Nuance/Context cannot be captured\n",
    "2. Words similarity cannot be computed since every word sits at the corner of the n-dimensional space (i.e Difference between Mon-Saturday is same as diff between Saturday and Sunday)\n",
    "3. Very diffuclt to store them in matrix if the unique no of words are in millions.\n",
    "4. Cannot cluster anything based on nearby words"
   ]
  }
 ],
 "metadata": {
  "kernelspec": {
   "display_name": "Python 3",
   "language": "python",
   "name": "python3"
  },
  "language_info": {
   "codemirror_mode": {
    "name": "ipython",
    "version": 3
   },
   "file_extension": ".py",
   "mimetype": "text/x-python",
   "name": "python",
   "nbconvert_exporter": "python",
   "pygments_lexer": "ipython3",
   "version": "3.6.5"
  }
 },
 "nbformat": 4,
 "nbformat_minor": 2
}
