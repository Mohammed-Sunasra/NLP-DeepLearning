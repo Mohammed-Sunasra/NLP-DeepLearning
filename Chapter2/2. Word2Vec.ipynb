{
 "cells": [
  {
   "cell_type": "markdown",
   "metadata": {},
   "source": [
    "### Word vector papers:\n",
    "1. Rumelhart, Hinton & Williams (1986)\n",
    "2. Bengio, et al(2003)\n",
    "3. Collobert & Western (2008)\n",
    "4. Mikolov, et al. (2013) (word2vec)\n",
    "5. Pennington, Socher & Manning (2014) (Glove)"
   ]
  },
  {
   "cell_type": "code",
   "execution_count": null,
   "metadata": {},
   "outputs": [],
   "source": []
  }
 ],
 "metadata": {
  "kernelspec": {
   "display_name": "Python 3",
   "language": "python",
   "name": "python3"
  },
  "language_info": {
   "codemirror_mode": {
    "name": "ipython",
    "version": 3
   },
   "file_extension": ".py",
   "mimetype": "text/x-python",
   "name": "python",
   "nbconvert_exporter": "python",
   "pygments_lexer": "ipython3",
   "version": "3.6.5"
  }
 },
 "nbformat": 4,
 "nbformat_minor": 2
}
