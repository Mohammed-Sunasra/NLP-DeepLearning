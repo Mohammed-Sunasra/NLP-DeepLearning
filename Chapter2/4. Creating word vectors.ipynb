{
 "cells": [
  {
   "cell_type": "markdown",
   "metadata": {},
   "source": [
    "# Creating Word Vectors using word2vec"
   ]
  },
  {
   "cell_type": "markdown",
   "metadata": {},
   "source": [
    "We'are going to create our own word vectors"
   ]
  },
  {
   "cell_type": "markdown",
   "metadata": {},
   "source": [
    "#### Importing dependencies"
   ]
  },
  {
   "cell_type": "code",
   "execution_count": 8,
   "metadata": {},
   "outputs": [],
   "source": [
    "import nltk\n",
    "from nltk.tokenize import word_tokenize, sent_tokenize\n",
    "import gensim\n",
    "from gensim.models.word2vec import Word2Vec\n",
    "#Why do we need TSNE?\n",
    "from sklearn.manifold import TSNE\n",
    "import pandas as pd\n",
    "#For interactive visualizations of our word vectors\n",
    "from bokeh.io import output_notebook\n",
    "from bokeh.plotting import show, figure\n",
    "%matplotlib inline"
   ]
  },
  {
   "cell_type": "code",
   "execution_count": 2,
   "metadata": {},
   "outputs": [
    {
     "name": "stdout",
     "output_type": "stream",
     "text": [
      "[nltk_data] Downloading package punkt to\n",
      "[nltk_data]     /home/mohammedsunasra/nltk_data...\n",
      "[nltk_data]   Package punkt is already up-to-date!\n"
     ]
    },
    {
     "data": {
      "text/plain": [
       "True"
      ]
     },
     "execution_count": 2,
     "metadata": {},
     "output_type": "execute_result"
    }
   ],
   "source": [
    "nltk.download('punkt')"
   ]
  },
  {
   "cell_type": "markdown",
   "metadata": {},
   "source": [
    "#### Loading Data"
   ]
  },
  {
   "cell_type": "code",
   "execution_count": 3,
   "metadata": {},
   "outputs": [
    {
     "name": "stdout",
     "output_type": "stream",
     "text": [
      "[nltk_data] Downloading package gutenberg to\n",
      "[nltk_data]     /home/mohammedsunasra/nltk_data...\n",
      "[nltk_data]   Package gutenberg is already up-to-date!\n"
     ]
    },
    {
     "data": {
      "text/plain": [
       "True"
      ]
     },
     "execution_count": 3,
     "metadata": {},
     "output_type": "execute_result"
    }
   ],
   "source": [
    "nltk.download('gutenberg')"
   ]
  },
  {
   "cell_type": "code",
   "execution_count": 14,
   "metadata": {},
   "outputs": [],
   "source": [
    "from nltk.corpus import gutenberg"
   ]
  },
  {
   "cell_type": "code",
   "execution_count": 5,
   "metadata": {},
   "outputs": [
    {
     "data": {
      "text/plain": [
       "['austen-emma.txt',\n",
       " 'austen-persuasion.txt',\n",
       " 'austen-sense.txt',\n",
       " 'bible-kjv.txt',\n",
       " 'blake-poems.txt',\n",
       " 'bryant-stories.txt',\n",
       " 'burgess-busterbrown.txt',\n",
       " 'carroll-alice.txt',\n",
       " 'chesterton-ball.txt',\n",
       " 'chesterton-brown.txt',\n",
       " 'chesterton-thursday.txt',\n",
       " 'edgeworth-parents.txt',\n",
       " 'melville-moby_dick.txt',\n",
       " 'milton-paradise.txt',\n",
       " 'shakespeare-caesar.txt',\n",
       " 'shakespeare-hamlet.txt',\n",
       " 'shakespeare-macbeth.txt',\n",
       " 'whitman-leaves.txt']"
      ]
     },
     "execution_count": 5,
     "metadata": {},
     "output_type": "execute_result"
    }
   ],
   "source": [
    "gutenberg.fileids()"
   ]
  },
  {
   "cell_type": "code",
   "execution_count": 6,
   "metadata": {},
   "outputs": [
    {
     "name": "stdout",
     "output_type": "stream",
     "text": [
      "18\n"
     ]
    }
   ],
   "source": [
    "print(len(gutenberg.fileids()))"
   ]
  },
  {
   "cell_type": "code",
   "execution_count": 9,
   "metadata": {},
   "outputs": [],
   "source": [
    "gberg_sent_tokens = sent_tokenize(gutenberg.raw())"
   ]
  },
  {
   "cell_type": "code",
   "execution_count": 10,
   "metadata": {},
   "outputs": [
    {
     "data": {
      "text/plain": [
       "['[Emma by Jane Austen 1816]\\n\\nVOLUME I\\n\\nCHAPTER I\\n\\n\\nEmma Woodhouse, handsome, clever, and rich, with a comfortable home\\nand happy disposition, seemed to unite some of the best blessings\\nof existence; and had lived nearly twenty-one years in the world\\nwith very little to distress or vex her.',\n",
       " \"She was the youngest of the two daughters of a most affectionate,\\nindulgent father; and had, in consequence of her sister's marriage,\\nbeen mistress of his house from a very early period.\",\n",
       " 'Her mother\\nhad died too long ago for her to have more than an indistinct\\nremembrance of her caresses; and her place had been supplied\\nby an excellent woman as governess, who had fallen little short\\nof a mother in affection.',\n",
       " \"Sixteen years had Miss Taylor been in Mr. Woodhouse's family,\\nless as a governess than a friend, very fond of both daughters,\\nbut particularly of Emma.\",\n",
       " 'Between _them_ it was more the intimacy\\nof sisters.']"
      ]
     },
     "execution_count": 10,
     "metadata": {},
     "output_type": "execute_result"
    }
   ],
   "source": [
    "gberg_sent_tokens[:5]"
   ]
  },
  {
   "cell_type": "code",
   "execution_count": 11,
   "metadata": {},
   "outputs": [
    {
     "data": {
      "text/plain": [
       "['She',\n",
       " 'was',\n",
       " 'the',\n",
       " 'youngest',\n",
       " 'of',\n",
       " 'the',\n",
       " 'two',\n",
       " 'daughters',\n",
       " 'of',\n",
       " 'a',\n",
       " 'most',\n",
       " 'affectionate',\n",
       " ',',\n",
       " 'indulgent',\n",
       " 'father',\n",
       " ';',\n",
       " 'and',\n",
       " 'had',\n",
       " ',',\n",
       " 'in',\n",
       " 'consequence',\n",
       " 'of',\n",
       " 'her',\n",
       " 'sister',\n",
       " \"'s\",\n",
       " 'marriage',\n",
       " ',',\n",
       " 'been',\n",
       " 'mistress',\n",
       " 'of',\n",
       " 'his',\n",
       " 'house',\n",
       " 'from',\n",
       " 'a',\n",
       " 'very',\n",
       " 'early',\n",
       " 'period',\n",
       " '.']"
      ]
     },
     "execution_count": 11,
     "metadata": {},
     "output_type": "execute_result"
    }
   ],
   "source": [
    "word_tokenize(gberg_sent_tokens[1])"
   ]
  },
  {
   "cell_type": "code",
   "execution_count": 15,
   "metadata": {},
   "outputs": [],
   "source": [
    "gberg_tokens = gutenberg.sents()"
   ]
  },
  {
   "cell_type": "code",
   "execution_count": 21,
   "metadata": {},
   "outputs": [],
   "source": [
    "gberg_words = gutenberg.words()"
   ]
  },
  {
   "cell_type": "code",
   "execution_count": 24,
   "metadata": {},
   "outputs": [
    {
     "data": {
      "text/plain": [
       "['[', 'Emma', 'by', 'Jane', 'Austen', '1816', ']', ...]"
      ]
     },
     "execution_count": 24,
     "metadata": {},
     "output_type": "execute_result"
    }
   ],
   "source": [
    "gberg_words"
   ]
  },
  {
   "cell_type": "code",
   "execution_count": 25,
   "metadata": {},
   "outputs": [
    {
     "data": {
      "text/plain": [
       "2621613"
      ]
     },
     "execution_count": 25,
     "metadata": {},
     "output_type": "execute_result"
    }
   ],
   "source": [
    "len(gberg_words)"
   ]
  },
  {
   "cell_type": "markdown",
   "metadata": {},
   "source": [
    "#### Run Word2Vec"
   ]
  },
  {
   "cell_type": "code",
   "execution_count": 26,
   "metadata": {},
   "outputs": [],
   "source": [
    "model = Word2Vec(sentences=gberg_tokens, size=64, sg=1, window=10, min_count=5, seed=42)\n",
    "#Size is dimension of vector\n",
    "#window size is context word window size"
   ]
  },
  {
   "cell_type": "markdown",
   "metadata": {},
   "source": [
    "#### Saving model"
   ]
  },
  {
   "cell_type": "code",
   "execution_count": 28,
   "metadata": {},
   "outputs": [],
   "source": [
    "model.save(\"../model_files/raw_gutenberg_word2vec.w2v\")"
   ]
  },
  {
   "cell_type": "markdown",
   "metadata": {},
   "source": [
    "#### Loading model"
   ]
  },
  {
   "cell_type": "code",
   "execution_count": 29,
   "metadata": {},
   "outputs": [],
   "source": [
    "model_loaded = gensim.models.Word2Vec.load(\"../model_files/raw_gutenberg_word2vec.w2v\")"
   ]
  },
  {
   "cell_type": "code",
   "execution_count": 30,
   "metadata": {},
   "outputs": [
    {
     "name": "stderr",
     "output_type": "stream",
     "text": [
      "/home/mohammedsunasra/anaconda3/lib/python3.6/site-packages/ipykernel_launcher.py:1: DeprecationWarning: Call to deprecated `__getitem__` (Method will be removed in 4.0.0, use self.wv.__getitem__() instead).\n",
      "  \"\"\"Entry point for launching an IPython kernel.\n"
     ]
    },
    {
     "data": {
      "text/plain": [
       "array([-2.26538479e-01,  5.51780462e-01,  2.12162733e-01,  2.24508177e-02,\n",
       "        1.50332138e-01, -4.10672463e-02, -4.64036176e-03,  9.68765542e-02,\n",
       "        4.51341838e-01, -9.14576054e-02,  8.65351351e-04,  9.46146715e-03,\n",
       "       -4.11433399e-01, -5.89423925e-02,  3.98921371e-01, -4.89158742e-02,\n",
       "        4.69561905e-01,  1.57292094e-02, -4.93609905e-02,  3.80450457e-01,\n",
       "        1.91041425e-01,  1.12455741e-01,  1.88222572e-01,  1.14541225e-01,\n",
       "        2.59090424e-01, -2.30431274e-01, -4.69348859e-03, -2.08607793e-01,\n",
       "       -4.14753795e-01,  2.51397840e-04,  7.12788850e-02, -1.01157762e-02,\n",
       "       -2.99347192e-01, -5.25355577e-01,  7.16360733e-02, -1.65304154e-01,\n",
       "       -3.71582240e-01, -8.93100798e-02,  2.22487934e-02, -4.06755894e-01,\n",
       "        3.85372549e-01, -2.53169835e-01,  1.23078100e-01, -3.83523218e-02,\n",
       "        6.01540387e-01,  1.62243783e-01,  4.02884960e-01, -1.57584101e-01,\n",
       "        7.75456149e-03, -5.62906682e-01,  8.19009960e-01,  2.12703869e-01,\n",
       "       -1.04828268e-01,  9.47220251e-02, -9.65544134e-02, -3.47703129e-01,\n",
       "       -5.84503174e-01,  5.01974344e-01,  9.73041207e-02,  5.53958952e-01,\n",
       "        1.35753408e-01,  1.04113497e-01,  8.16477612e-02,  9.06909257e-02],\n",
       "      dtype=float32)"
      ]
     },
     "execution_count": 30,
     "metadata": {},
     "output_type": "execute_result"
    }
   ],
   "source": [
    "model_loaded[\"dog\"]"
   ]
  },
  {
   "cell_type": "code",
   "execution_count": 31,
   "metadata": {},
   "outputs": [
    {
     "name": "stderr",
     "output_type": "stream",
     "text": [
      "/home/mohammedsunasra/anaconda3/lib/python3.6/site-packages/ipykernel_launcher.py:1: DeprecationWarning: Call to deprecated `__getitem__` (Method will be removed in 4.0.0, use self.wv.__getitem__() instead).\n",
      "  \"\"\"Entry point for launching an IPython kernel.\n"
     ]
    },
    {
     "data": {
      "text/plain": [
       "(64,)"
      ]
     },
     "execution_count": 31,
     "metadata": {},
     "output_type": "execute_result"
    }
   ],
   "source": [
    "model_loaded[\"dog\"].shape"
   ]
  },
  {
   "cell_type": "markdown",
   "metadata": {},
   "source": [
    "#### Similar words"
   ]
  },
  {
   "cell_type": "code",
   "execution_count": 32,
   "metadata": {},
   "outputs": [
    {
     "name": "stderr",
     "output_type": "stream",
     "text": [
      "/home/mohammedsunasra/anaconda3/lib/python3.6/site-packages/ipykernel_launcher.py:1: DeprecationWarning: Call to deprecated `most_similar` (Method will be removed in 4.0.0, use self.wv.most_similar() instead).\n",
      "  \"\"\"Entry point for launching an IPython kernel.\n",
      "/home/mohammedsunasra/anaconda3/lib/python3.6/site-packages/gensim/matutils.py:737: FutureWarning: Conversion of the second argument of issubdtype from `int` to `np.signedinteger` is deprecated. In future, it will be treated as `np.int64 == np.dtype(int).type`.\n",
      "  if np.issubdtype(vec.dtype, np.int):\n"
     ]
    },
    {
     "data": {
      "text/plain": [
       "[('puppy', 0.8311045169830322),\n",
       " ('cage', 0.7914822101593018),\n",
       " ('sweeper', 0.7845744490623474),\n",
       " ('thief', 0.7631908655166626),\n",
       " ('cow', 0.7547645568847656),\n",
       " ('shell', 0.7454959154129028),\n",
       " ('chimney', 0.7435685396194458),\n",
       " ('Alligator', 0.7414529323577881),\n",
       " ('broth', 0.7404745221138),\n",
       " ('pet', 0.7378256916999817)]"
      ]
     },
     "execution_count": 32,
     "metadata": {},
     "output_type": "execute_result"
    }
   ],
   "source": [
    "model_loaded.most_similar('dog')"
   ]
  },
  {
   "cell_type": "code",
   "execution_count": 33,
   "metadata": {},
   "outputs": [
    {
     "name": "stderr",
     "output_type": "stream",
     "text": [
      "/home/mohammedsunasra/anaconda3/lib/python3.6/site-packages/ipykernel_launcher.py:1: DeprecationWarning: Call to deprecated `most_similar` (Method will be removed in 4.0.0, use self.wv.most_similar() instead).\n",
      "  \"\"\"Entry point for launching an IPython kernel.\n",
      "/home/mohammedsunasra/anaconda3/lib/python3.6/site-packages/gensim/matutils.py:737: FutureWarning: Conversion of the second argument of issubdtype from `int` to `np.signedinteger` is deprecated. In future, it will be treated as `np.int64 == np.dtype(int).type`.\n",
      "  if np.issubdtype(vec.dtype, np.int):\n"
     ]
    },
    {
     "data": {
      "text/plain": [
       "[('suppose', 0.8590080142021179),\n",
       " ('contradict', 0.8471552729606628),\n",
       " ('manage', 0.8414980173110962),\n",
       " ('downright', 0.8357493877410889),\n",
       " ('NOW', 0.82381272315979),\n",
       " ('know', 0.8202742338180542),\n",
       " ('_you_', 0.8164973258972168),\n",
       " ('pretend', 0.8131539821624756),\n",
       " ('awfully', 0.8087693452835083),\n",
       " ('anyhow', 0.808165431022644)]"
      ]
     },
     "execution_count": 33,
     "metadata": {},
     "output_type": "execute_result"
    }
   ],
   "source": [
    "model_loaded.most_similar('think')"
   ]
  },
  {
   "cell_type": "code",
   "execution_count": 34,
   "metadata": {},
   "outputs": [
    {
     "name": "stderr",
     "output_type": "stream",
     "text": [
      "/home/mohammedsunasra/anaconda3/lib/python3.6/site-packages/ipykernel_launcher.py:1: DeprecationWarning: Call to deprecated `most_similar` (Method will be removed in 4.0.0, use self.wv.most_similar() instead).\n",
      "  \"\"\"Entry point for launching an IPython kernel.\n",
      "/home/mohammedsunasra/anaconda3/lib/python3.6/site-packages/gensim/matutils.py:737: FutureWarning: Conversion of the second argument of issubdtype from `int` to `np.signedinteger` is deprecated. In future, it will be treated as `np.int64 == np.dtype(int).type`.\n",
      "  if np.issubdtype(vec.dtype, np.int):\n"
     ]
    },
    {
     "data": {
      "text/plain": [
       "[('morning', 0.8025069832801819),\n",
       " ('night', 0.7603828310966492),\n",
       " ('time', 0.7224133014678955),\n",
       " ('evening', 0.7140817046165466),\n",
       " ('morrow', 0.6953521370887756),\n",
       " ('month', 0.6893912553787231),\n",
       " ('sabbath', 0.6633560657501221),\n",
       " ('feasting', 0.6615920662879944),\n",
       " ('week', 0.6582901477813721),\n",
       " ('Saturday', 0.6573561429977417)]"
      ]
     },
     "execution_count": 34,
     "metadata": {},
     "output_type": "execute_result"
    }
   ],
   "source": [
    "model_loaded.most_similar('day')"
   ]
  },
  {
   "cell_type": "code",
   "execution_count": 35,
   "metadata": {},
   "outputs": [
    {
     "name": "stderr",
     "output_type": "stream",
     "text": [
      "/home/mohammedsunasra/anaconda3/lib/python3.6/site-packages/ipykernel_launcher.py:1: DeprecationWarning: Call to deprecated `most_similar` (Method will be removed in 4.0.0, use self.wv.most_similar() instead).\n",
      "  \"\"\"Entry point for launching an IPython kernel.\n",
      "/home/mohammedsunasra/anaconda3/lib/python3.6/site-packages/gensim/matutils.py:737: FutureWarning: Conversion of the second argument of issubdtype from `int` to `np.signedinteger` is deprecated. In future, it will be treated as `np.int64 == np.dtype(int).type`.\n",
      "  if np.issubdtype(vec.dtype, np.int):\n"
     ]
    },
    {
     "data": {
      "text/plain": [
       "[('mother', 0.8595028519630432),\n",
       " ('brother', 0.8427099585533142),\n",
       " ('sister', 0.8065947890281677),\n",
       " ('Amnon', 0.7854680418968201),\n",
       " ('wife', 0.7724324464797974),\n",
       " ('daughter', 0.7621254920959473),\n",
       " ('bondwoman', 0.7503658533096313),\n",
       " ('uncle', 0.7269459962844849),\n",
       " ('concubine', 0.7240821123123169),\n",
       " ('Nabal', 0.712792694568634)]"
      ]
     },
     "execution_count": 35,
     "metadata": {},
     "output_type": "execute_result"
    }
   ],
   "source": [
    "model_loaded.most_similar('father')"
   ]
  },
  {
   "cell_type": "markdown",
   "metadata": {},
   "source": [
    "#### Odd man out"
   ]
  },
  {
   "cell_type": "code",
   "execution_count": 36,
   "metadata": {},
   "outputs": [
    {
     "name": "stderr",
     "output_type": "stream",
     "text": [
      "/home/mohammedsunasra/anaconda3/lib/python3.6/site-packages/ipykernel_launcher.py:1: DeprecationWarning: Call to deprecated `doesnt_match` (Method will be removed in 4.0.0, use self.wv.doesnt_match() instead).\n",
      "  \"\"\"Entry point for launching an IPython kernel.\n",
      "/home/mohammedsunasra/anaconda3/lib/python3.6/site-packages/gensim/matutils.py:737: FutureWarning: Conversion of the second argument of issubdtype from `int` to `np.signedinteger` is deprecated. In future, it will be treated as `np.int64 == np.dtype(int).type`.\n",
      "  if np.issubdtype(vec.dtype, np.int):\n"
     ]
    },
    {
     "data": {
      "text/plain": [
       "'dog'"
      ]
     },
     "execution_count": 36,
     "metadata": {},
     "output_type": "execute_result"
    }
   ],
   "source": [
    "model_loaded.doesnt_match(\"mother father dad dog\".split())"
   ]
  },
  {
   "cell_type": "markdown",
   "metadata": {},
   "source": [
    "#### Arithmetic"
   ]
  },
  {
   "cell_type": "code",
   "execution_count": 38,
   "metadata": {},
   "outputs": [
    {
     "name": "stderr",
     "output_type": "stream",
     "text": [
      "/home/mohammedsunasra/anaconda3/lib/python3.6/site-packages/ipykernel_launcher.py:1: DeprecationWarning: Call to deprecated `most_similar` (Method will be removed in 4.0.0, use self.wv.most_similar() instead).\n",
      "  \"\"\"Entry point for launching an IPython kernel.\n",
      "/home/mohammedsunasra/anaconda3/lib/python3.6/site-packages/gensim/matutils.py:737: FutureWarning: Conversion of the second argument of issubdtype from `int` to `np.signedinteger` is deprecated. In future, it will be treated as `np.int64 == np.dtype(int).type`.\n",
      "  if np.issubdtype(vec.dtype, np.int):\n"
     ]
    },
    {
     "data": {
      "text/plain": [
       "[('sister', 0.7918761968612671),\n",
       " ('mother', 0.7630699872970581),\n",
       " ('wife', 0.7518402934074402),\n",
       " ('husband', 0.7391830682754517),\n",
       " ('Sarah', 0.7261159420013428),\n",
       " ('daughter', 0.7252950668334961),\n",
       " ('Sarai', 0.7215025424957275),\n",
       " ('brother', 0.7040714025497437),\n",
       " ('Rachel', 0.7015578746795654),\n",
       " ('daughters', 0.695123553276062)]"
      ]
     },
     "execution_count": 38,
     "metadata": {},
     "output_type": "execute_result"
    }
   ],
   "source": [
    "model.most_similar(positive=['father','woman'], negative=['man'])"
   ]
  },
  {
   "cell_type": "code",
   "execution_count": 39,
   "metadata": {},
   "outputs": [
    {
     "name": "stderr",
     "output_type": "stream",
     "text": [
      "/home/mohammedsunasra/anaconda3/lib/python3.6/site-packages/ipykernel_launcher.py:1: DeprecationWarning: Call to deprecated `most_similar` (Method will be removed in 4.0.0, use self.wv.most_similar() instead).\n",
      "  \"\"\"Entry point for launching an IPython kernel.\n",
      "/home/mohammedsunasra/anaconda3/lib/python3.6/site-packages/gensim/matutils.py:737: FutureWarning: Conversion of the second argument of issubdtype from `int` to `np.signedinteger` is deprecated. In future, it will be treated as `np.int64 == np.dtype(int).type`.\n",
      "  if np.issubdtype(vec.dtype, np.int):\n"
     ]
    },
    {
     "data": {
      "text/plain": [
       "[('sister', 0.7296842336654663),\n",
       " ('wife', 0.7292662262916565),\n",
       " ('conceived', 0.6931815147399902),\n",
       " ('mother', 0.6727426052093506),\n",
       " ('daughter', 0.6505609750747681),\n",
       " ('child', 0.648764967918396),\n",
       " ('maid', 0.6431931853294373),\n",
       " ('adultery', 0.6396881937980652),\n",
       " ('nurse', 0.6287553310394287),\n",
       " ('Sarai', 0.6240081787109375)]"
      ]
     },
     "execution_count": 39,
     "metadata": {},
     "output_type": "execute_result"
    }
   ],
   "source": [
    "model.most_similar(positive=['husband','woman'], negative=['man'])"
   ]
  },
  {
   "cell_type": "code",
   "execution_count": 40,
   "metadata": {},
   "outputs": [
    {
     "name": "stderr",
     "output_type": "stream",
     "text": [
      "/home/mohammedsunasra/anaconda3/lib/python3.6/site-packages/ipykernel_launcher.py:1: DeprecationWarning: Call to deprecated `most_similar` (Method will be removed in 4.0.0, use self.wv.most_similar() instead).\n",
      "  \"\"\"Entry point for launching an IPython kernel.\n",
      "/home/mohammedsunasra/anaconda3/lib/python3.6/site-packages/gensim/matutils.py:737: FutureWarning: Conversion of the second argument of issubdtype from `int` to `np.signedinteger` is deprecated. In future, it will be treated as `np.int64 == np.dtype(int).type`.\n",
      "  if np.issubdtype(vec.dtype, np.int):\n"
     ]
    },
    {
     "data": {
      "text/plain": [
       "[('Sarah', 0.7566111087799072),\n",
       " ('Rachel', 0.7172688245773315),\n",
       " ('Solomon', 0.7000220417976379),\n",
       " ('Sarai', 0.6978135108947754),\n",
       " ('Laban', 0.6877530813217163),\n",
       " ('Bethuel', 0.6798403263092041),\n",
       " ('Hagar', 0.6778625845909119),\n",
       " ('Abram', 0.677825927734375),\n",
       " ('Leah', 0.6733506321907043),\n",
       " ('Pharaoh', 0.6732127666473389),\n",
       " ('Rebekah', 0.6620738506317139),\n",
       " ('Bilhah', 0.6535000205039978),\n",
       " ('birthright', 0.653274655342102),\n",
       " ('Padanaram', 0.652320921421051),\n",
       " ('Ephron', 0.6518051028251648),\n",
       " ('Esau', 0.6483858823776245),\n",
       " ('Heth', 0.6478888988494873),\n",
       " ('Hittite', 0.6455763578414917),\n",
       " ('David', 0.6443098783493042),\n",
       " ('Zilpah', 0.641307532787323),\n",
       " ('Judah', 0.6412990093231201),\n",
       " ('Babylon', 0.6388645172119141),\n",
       " ('queen', 0.6377655267715454),\n",
       " ('Hamor', 0.6355526447296143),\n",
       " ('Uriah', 0.6321998834609985),\n",
       " ('Hezekiah', 0.6292102336883545),\n",
       " ('Jerubbaal', 0.6283986568450928),\n",
       " ('Hanun', 0.6282304525375366),\n",
       " ('princes', 0.6282073259353638),\n",
       " ('Mephibosheth', 0.6276932954788208)]"
      ]
     },
     "execution_count": 40,
     "metadata": {},
     "output_type": "execute_result"
    }
   ],
   "source": [
    "model.most_similar(positive=['king','woman'], negative=['man'], topn=30)"
   ]
  },
  {
   "cell_type": "markdown",
   "metadata": {},
   "source": [
    "#### Reducing and Visualizing word embedding"
   ]
  },
  {
   "cell_type": "code",
   "execution_count": 41,
   "metadata": {},
   "outputs": [
    {
     "data": {
      "text/plain": [
       "17011"
      ]
     },
     "execution_count": 41,
     "metadata": {},
     "output_type": "execute_result"
    }
   ],
   "source": [
    "len(model_loaded.wv.vocab)"
   ]
  },
  {
   "cell_type": "code",
   "execution_count": 42,
   "metadata": {},
   "outputs": [
    {
     "name": "stderr",
     "output_type": "stream",
     "text": [
      "/home/mohammedsunasra/anaconda3/lib/python3.6/site-packages/ipykernel_launcher.py:1: DeprecationWarning: Call to deprecated `__getitem__` (Method will be removed in 4.0.0, use self.wv.__getitem__() instead).\n",
      "  \"\"\"Entry point for launching an IPython kernel.\n"
     ]
    }
   ],
   "source": [
    "X = model_loaded[model_loaded.wv.vocab]"
   ]
  },
  {
   "cell_type": "code",
   "execution_count": 44,
   "metadata": {},
   "outputs": [
    {
     "data": {
      "text/plain": [
       "(17011, 64)"
      ]
     },
     "execution_count": 44,
     "metadata": {},
     "output_type": "execute_result"
    }
   ],
   "source": [
    "X.shape"
   ]
  },
  {
   "cell_type": "code",
   "execution_count": 45,
   "metadata": {},
   "outputs": [],
   "source": [
    "tsne = TSNE(n_components=2, n_iter=1000)"
   ]
  },
  {
   "cell_type": "code",
   "execution_count": 46,
   "metadata": {},
   "outputs": [],
   "source": [
    "X_2d = tsne.fit_transform(X)"
   ]
  },
  {
   "cell_type": "code",
   "execution_count": 49,
   "metadata": {},
   "outputs": [],
   "source": [
    "df = pd.DataFrame(X_2d, columns=['x','y'])\n",
    "df['token'] = model_loaded.wv.vocab.keys()"
   ]
  },
  {
   "cell_type": "code",
   "execution_count": 50,
   "metadata": {},
   "outputs": [
    {
     "data": {
      "text/html": [
       "<div>\n",
       "<style scoped>\n",
       "    .dataframe tbody tr th:only-of-type {\n",
       "        vertical-align: middle;\n",
       "    }\n",
       "\n",
       "    .dataframe tbody tr th {\n",
       "        vertical-align: top;\n",
       "    }\n",
       "\n",
       "    .dataframe thead th {\n",
       "        text-align: right;\n",
       "    }\n",
       "</style>\n",
       "<table border=\"1\" class=\"dataframe\">\n",
       "  <thead>\n",
       "    <tr style=\"text-align: right;\">\n",
       "      <th></th>\n",
       "      <th>x</th>\n",
       "      <th>y</th>\n",
       "      <th>token</th>\n",
       "    </tr>\n",
       "  </thead>\n",
       "  <tbody>\n",
       "    <tr>\n",
       "      <th>0</th>\n",
       "      <td>56.267014</td>\n",
       "      <td>8.370474</td>\n",
       "      <td>[</td>\n",
       "    </tr>\n",
       "    <tr>\n",
       "      <th>1</th>\n",
       "      <td>15.403315</td>\n",
       "      <td>60.909252</td>\n",
       "      <td>Emma</td>\n",
       "    </tr>\n",
       "    <tr>\n",
       "      <th>2</th>\n",
       "      <td>-17.392303</td>\n",
       "      <td>31.840427</td>\n",
       "      <td>by</td>\n",
       "    </tr>\n",
       "    <tr>\n",
       "      <th>3</th>\n",
       "      <td>13.557517</td>\n",
       "      <td>61.084011</td>\n",
       "      <td>Jane</td>\n",
       "    </tr>\n",
       "    <tr>\n",
       "      <th>4</th>\n",
       "      <td>56.205200</td>\n",
       "      <td>8.382701</td>\n",
       "      <td>]</td>\n",
       "    </tr>\n",
       "  </tbody>\n",
       "</table>\n",
       "</div>"
      ],
      "text/plain": [
       "           x          y token\n",
       "0  56.267014   8.370474     [\n",
       "1  15.403315  60.909252  Emma\n",
       "2 -17.392303  31.840427    by\n",
       "3  13.557517  61.084011  Jane\n",
       "4  56.205200   8.382701     ]"
      ]
     },
     "execution_count": 50,
     "metadata": {},
     "output_type": "execute_result"
    }
   ],
   "source": [
    "df.head()"
   ]
  },
  {
   "cell_type": "code",
   "execution_count": 51,
   "metadata": {},
   "outputs": [],
   "source": [
    "df.to_csv(\"../model_files/dataframe_words.csv\")"
   ]
  },
  {
   "cell_type": "code",
   "execution_count": 52,
   "metadata": {},
   "outputs": [
    {
     "data": {
      "text/html": [
       "\n",
       "    <div class=\"bk-root\">\n",
       "        <a href=\"https://bokeh.pydata.org\" target=\"_blank\" class=\"bk-logo bk-logo-small bk-logo-notebook\"></a>\n",
       "        <span id=\"99d4b508-616c-4a68-a552-90ff86001fe4\">Loading BokehJS ...</span>\n",
       "    </div>"
      ]
     },
     "metadata": {},
     "output_type": "display_data"
    },
    {
     "data": {
      "application/javascript": [
       "\n",
       "(function(root) {\n",
       "  function now() {\n",
       "    return new Date();\n",
       "  }\n",
       "\n",
       "  var force = true;\n",
       "\n",
       "  if (typeof (root._bokeh_onload_callbacks) === \"undefined\" || force === true) {\n",
       "    root._bokeh_onload_callbacks = [];\n",
       "    root._bokeh_is_loading = undefined;\n",
       "  }\n",
       "\n",
       "  var JS_MIME_TYPE = 'application/javascript';\n",
       "  var HTML_MIME_TYPE = 'text/html';\n",
       "  var EXEC_MIME_TYPE = 'application/vnd.bokehjs_exec.v0+json';\n",
       "  var CLASS_NAME = 'output_bokeh rendered_html';\n",
       "\n",
       "  /**\n",
       "   * Render data to the DOM node\n",
       "   */\n",
       "  function render(props, node) {\n",
       "    var script = document.createElement(\"script\");\n",
       "    node.appendChild(script);\n",
       "  }\n",
       "\n",
       "  /**\n",
       "   * Handle when an output is cleared or removed\n",
       "   */\n",
       "  function handleClearOutput(event, handle) {\n",
       "    var cell = handle.cell;\n",
       "\n",
       "    var id = cell.output_area._bokeh_element_id;\n",
       "    var server_id = cell.output_area._bokeh_server_id;\n",
       "    // Clean up Bokeh references\n",
       "    if (id !== undefined) {\n",
       "      Bokeh.index[id].model.document.clear();\n",
       "      delete Bokeh.index[id];\n",
       "    }\n",
       "\n",
       "    if (server_id !== undefined) {\n",
       "      // Clean up Bokeh references\n",
       "      var cmd = \"from bokeh.io.state import curstate; print(curstate().uuid_to_server['\" + server_id + \"'].get_sessions()[0].document.roots[0]._id)\";\n",
       "      cell.notebook.kernel.execute(cmd, {\n",
       "        iopub: {\n",
       "          output: function(msg) {\n",
       "            var element_id = msg.content.text.trim();\n",
       "            Bokeh.index[element_id].model.document.clear();\n",
       "            delete Bokeh.index[element_id];\n",
       "          }\n",
       "        }\n",
       "      });\n",
       "      // Destroy server and session\n",
       "      var cmd = \"import bokeh.io.notebook as ion; ion.destroy_server('\" + server_id + \"')\";\n",
       "      cell.notebook.kernel.execute(cmd);\n",
       "    }\n",
       "  }\n",
       "\n",
       "  /**\n",
       "   * Handle when a new output is added\n",
       "   */\n",
       "  function handleAddOutput(event, handle) {\n",
       "    var output_area = handle.output_area;\n",
       "    var output = handle.output;\n",
       "\n",
       "    // limit handleAddOutput to display_data with EXEC_MIME_TYPE content only\n",
       "    if ((output.output_type != \"display_data\") || (!output.data.hasOwnProperty(EXEC_MIME_TYPE))) {\n",
       "      return\n",
       "    }\n",
       "\n",
       "    var toinsert = output_area.element.find(\".\" + CLASS_NAME.split(' ')[0]);\n",
       "\n",
       "    if (output.metadata[EXEC_MIME_TYPE][\"id\"] !== undefined) {\n",
       "      toinsert[toinsert.length - 1].firstChild.textContent = output.data[JS_MIME_TYPE];\n",
       "      // store reference to embed id on output_area\n",
       "      output_area._bokeh_element_id = output.metadata[EXEC_MIME_TYPE][\"id\"];\n",
       "    }\n",
       "    if (output.metadata[EXEC_MIME_TYPE][\"server_id\"] !== undefined) {\n",
       "      var bk_div = document.createElement(\"div\");\n",
       "      bk_div.innerHTML = output.data[HTML_MIME_TYPE];\n",
       "      var script_attrs = bk_div.children[0].attributes;\n",
       "      for (var i = 0; i < script_attrs.length; i++) {\n",
       "        toinsert[toinsert.length - 1].firstChild.setAttribute(script_attrs[i].name, script_attrs[i].value);\n",
       "      }\n",
       "      // store reference to server id on output_area\n",
       "      output_area._bokeh_server_id = output.metadata[EXEC_MIME_TYPE][\"server_id\"];\n",
       "    }\n",
       "  }\n",
       "\n",
       "  function register_renderer(events, OutputArea) {\n",
       "\n",
       "    function append_mime(data, metadata, element) {\n",
       "      // create a DOM node to render to\n",
       "      var toinsert = this.create_output_subarea(\n",
       "        metadata,\n",
       "        CLASS_NAME,\n",
       "        EXEC_MIME_TYPE\n",
       "      );\n",
       "      this.keyboard_manager.register_events(toinsert);\n",
       "      // Render to node\n",
       "      var props = {data: data, metadata: metadata[EXEC_MIME_TYPE]};\n",
       "      render(props, toinsert[toinsert.length - 1]);\n",
       "      element.append(toinsert);\n",
       "      return toinsert\n",
       "    }\n",
       "\n",
       "    /* Handle when an output is cleared or removed */\n",
       "    events.on('clear_output.CodeCell', handleClearOutput);\n",
       "    events.on('delete.Cell', handleClearOutput);\n",
       "\n",
       "    /* Handle when a new output is added */\n",
       "    events.on('output_added.OutputArea', handleAddOutput);\n",
       "\n",
       "    /**\n",
       "     * Register the mime type and append_mime function with output_area\n",
       "     */\n",
       "    OutputArea.prototype.register_mime_type(EXEC_MIME_TYPE, append_mime, {\n",
       "      /* Is output safe? */\n",
       "      safe: true,\n",
       "      /* Index of renderer in `output_area.display_order` */\n",
       "      index: 0\n",
       "    });\n",
       "  }\n",
       "\n",
       "  // register the mime type if in Jupyter Notebook environment and previously unregistered\n",
       "  if (root.Jupyter !== undefined) {\n",
       "    var events = require('base/js/events');\n",
       "    var OutputArea = require('notebook/js/outputarea').OutputArea;\n",
       "\n",
       "    if (OutputArea.prototype.mime_types().indexOf(EXEC_MIME_TYPE) == -1) {\n",
       "      register_renderer(events, OutputArea);\n",
       "    }\n",
       "  }\n",
       "\n",
       "  \n",
       "  if (typeof (root._bokeh_timeout) === \"undefined\" || force === true) {\n",
       "    root._bokeh_timeout = Date.now() + 5000;\n",
       "    root._bokeh_failed_load = false;\n",
       "  }\n",
       "\n",
       "  var NB_LOAD_WARNING = {'data': {'text/html':\n",
       "     \"<div style='background-color: #fdd'>\\n\"+\n",
       "     \"<p>\\n\"+\n",
       "     \"BokehJS does not appear to have successfully loaded. If loading BokehJS from CDN, this \\n\"+\n",
       "     \"may be due to a slow or bad network connection. Possible fixes:\\n\"+\n",
       "     \"</p>\\n\"+\n",
       "     \"<ul>\\n\"+\n",
       "     \"<li>re-rerun `output_notebook()` to attempt to load from CDN again, or</li>\\n\"+\n",
       "     \"<li>use INLINE resources instead, as so:</li>\\n\"+\n",
       "     \"</ul>\\n\"+\n",
       "     \"<code>\\n\"+\n",
       "     \"from bokeh.resources import INLINE\\n\"+\n",
       "     \"output_notebook(resources=INLINE)\\n\"+\n",
       "     \"</code>\\n\"+\n",
       "     \"</div>\"}};\n",
       "\n",
       "  function display_loaded() {\n",
       "    var el = document.getElementById(\"99d4b508-616c-4a68-a552-90ff86001fe4\");\n",
       "    if (el != null) {\n",
       "      el.textContent = \"BokehJS is loading...\";\n",
       "    }\n",
       "    if (root.Bokeh !== undefined) {\n",
       "      if (el != null) {\n",
       "        el.textContent = \"BokehJS \" + root.Bokeh.version + \" successfully loaded.\";\n",
       "      }\n",
       "    } else if (Date.now() < root._bokeh_timeout) {\n",
       "      setTimeout(display_loaded, 100)\n",
       "    }\n",
       "  }\n",
       "\n",
       "\n",
       "  function run_callbacks() {\n",
       "    try {\n",
       "      root._bokeh_onload_callbacks.forEach(function(callback) { callback() });\n",
       "    }\n",
       "    finally {\n",
       "      delete root._bokeh_onload_callbacks\n",
       "    }\n",
       "    console.info(\"Bokeh: all callbacks have finished\");\n",
       "  }\n",
       "\n",
       "  function load_libs(js_urls, callback) {\n",
       "    root._bokeh_onload_callbacks.push(callback);\n",
       "    if (root._bokeh_is_loading > 0) {\n",
       "      console.log(\"Bokeh: BokehJS is being loaded, scheduling callback at\", now());\n",
       "      return null;\n",
       "    }\n",
       "    if (js_urls == null || js_urls.length === 0) {\n",
       "      run_callbacks();\n",
       "      return null;\n",
       "    }\n",
       "    console.log(\"Bokeh: BokehJS not loaded, scheduling load and callback at\", now());\n",
       "    root._bokeh_is_loading = js_urls.length;\n",
       "    for (var i = 0; i < js_urls.length; i++) {\n",
       "      var url = js_urls[i];\n",
       "      var s = document.createElement('script');\n",
       "      s.src = url;\n",
       "      s.async = false;\n",
       "      s.onreadystatechange = s.onload = function() {\n",
       "        root._bokeh_is_loading--;\n",
       "        if (root._bokeh_is_loading === 0) {\n",
       "          console.log(\"Bokeh: all BokehJS libraries loaded\");\n",
       "          run_callbacks()\n",
       "        }\n",
       "      };\n",
       "      s.onerror = function() {\n",
       "        console.warn(\"failed to load library \" + url);\n",
       "      };\n",
       "      console.log(\"Bokeh: injecting script tag for BokehJS library: \", url);\n",
       "      document.getElementsByTagName(\"head\")[0].appendChild(s);\n",
       "    }\n",
       "  };var element = document.getElementById(\"99d4b508-616c-4a68-a552-90ff86001fe4\");\n",
       "  if (element == null) {\n",
       "    console.log(\"Bokeh: ERROR: autoload.js configured with elementid '99d4b508-616c-4a68-a552-90ff86001fe4' but no matching script tag was found. \")\n",
       "    return false;\n",
       "  }\n",
       "\n",
       "  var js_urls = [\"https://cdn.pydata.org/bokeh/release/bokeh-0.12.16.min.js\", \"https://cdn.pydata.org/bokeh/release/bokeh-widgets-0.12.16.min.js\", \"https://cdn.pydata.org/bokeh/release/bokeh-tables-0.12.16.min.js\", \"https://cdn.pydata.org/bokeh/release/bokeh-gl-0.12.16.min.js\"];\n",
       "\n",
       "  var inline_js = [\n",
       "    function(Bokeh) {\n",
       "      Bokeh.set_log_level(\"info\");\n",
       "    },\n",
       "    \n",
       "    function(Bokeh) {\n",
       "      \n",
       "    },\n",
       "    function(Bokeh) {\n",
       "      console.log(\"Bokeh: injecting CSS: https://cdn.pydata.org/bokeh/release/bokeh-0.12.16.min.css\");\n",
       "      Bokeh.embed.inject_css(\"https://cdn.pydata.org/bokeh/release/bokeh-0.12.16.min.css\");\n",
       "      console.log(\"Bokeh: injecting CSS: https://cdn.pydata.org/bokeh/release/bokeh-widgets-0.12.16.min.css\");\n",
       "      Bokeh.embed.inject_css(\"https://cdn.pydata.org/bokeh/release/bokeh-widgets-0.12.16.min.css\");\n",
       "      console.log(\"Bokeh: injecting CSS: https://cdn.pydata.org/bokeh/release/bokeh-tables-0.12.16.min.css\");\n",
       "      Bokeh.embed.inject_css(\"https://cdn.pydata.org/bokeh/release/bokeh-tables-0.12.16.min.css\");\n",
       "    }\n",
       "  ];\n",
       "\n",
       "  function run_inline_js() {\n",
       "    \n",
       "    if ((root.Bokeh !== undefined) || (force === true)) {\n",
       "      for (var i = 0; i < inline_js.length; i++) {\n",
       "        inline_js[i].call(root, root.Bokeh);\n",
       "      }if (force === true) {\n",
       "        display_loaded();\n",
       "      }} else if (Date.now() < root._bokeh_timeout) {\n",
       "      setTimeout(run_inline_js, 100);\n",
       "    } else if (!root._bokeh_failed_load) {\n",
       "      console.log(\"Bokeh: BokehJS failed to load within specified timeout.\");\n",
       "      root._bokeh_failed_load = true;\n",
       "    } else if (force !== true) {\n",
       "      var cell = $(document.getElementById(\"99d4b508-616c-4a68-a552-90ff86001fe4\")).parents('.cell').data().cell;\n",
       "      cell.output_area.append_execute_result(NB_LOAD_WARNING)\n",
       "    }\n",
       "\n",
       "  }\n",
       "\n",
       "  if (root._bokeh_is_loading === 0) {\n",
       "    console.log(\"Bokeh: BokehJS loaded, going straight to plotting\");\n",
       "    run_inline_js();\n",
       "  } else {\n",
       "    load_libs(js_urls, function() {\n",
       "      console.log(\"Bokeh: BokehJS plotting callback run at\", now());\n",
       "      run_inline_js();\n",
       "    });\n",
       "  }\n",
       "}(window));"
      ],
      "application/vnd.bokehjs_load.v0+json": "\n(function(root) {\n  function now() {\n    return new Date();\n  }\n\n  var force = true;\n\n  if (typeof (root._bokeh_onload_callbacks) === \"undefined\" || force === true) {\n    root._bokeh_onload_callbacks = [];\n    root._bokeh_is_loading = undefined;\n  }\n\n  \n\n  \n  if (typeof (root._bokeh_timeout) === \"undefined\" || force === true) {\n    root._bokeh_timeout = Date.now() + 5000;\n    root._bokeh_failed_load = false;\n  }\n\n  var NB_LOAD_WARNING = {'data': {'text/html':\n     \"<div style='background-color: #fdd'>\\n\"+\n     \"<p>\\n\"+\n     \"BokehJS does not appear to have successfully loaded. If loading BokehJS from CDN, this \\n\"+\n     \"may be due to a slow or bad network connection. Possible fixes:\\n\"+\n     \"</p>\\n\"+\n     \"<ul>\\n\"+\n     \"<li>re-rerun `output_notebook()` to attempt to load from CDN again, or</li>\\n\"+\n     \"<li>use INLINE resources instead, as so:</li>\\n\"+\n     \"</ul>\\n\"+\n     \"<code>\\n\"+\n     \"from bokeh.resources import INLINE\\n\"+\n     \"output_notebook(resources=INLINE)\\n\"+\n     \"</code>\\n\"+\n     \"</div>\"}};\n\n  function display_loaded() {\n    var el = document.getElementById(\"99d4b508-616c-4a68-a552-90ff86001fe4\");\n    if (el != null) {\n      el.textContent = \"BokehJS is loading...\";\n    }\n    if (root.Bokeh !== undefined) {\n      if (el != null) {\n        el.textContent = \"BokehJS \" + root.Bokeh.version + \" successfully loaded.\";\n      }\n    } else if (Date.now() < root._bokeh_timeout) {\n      setTimeout(display_loaded, 100)\n    }\n  }\n\n\n  function run_callbacks() {\n    try {\n      root._bokeh_onload_callbacks.forEach(function(callback) { callback() });\n    }\n    finally {\n      delete root._bokeh_onload_callbacks\n    }\n    console.info(\"Bokeh: all callbacks have finished\");\n  }\n\n  function load_libs(js_urls, callback) {\n    root._bokeh_onload_callbacks.push(callback);\n    if (root._bokeh_is_loading > 0) {\n      console.log(\"Bokeh: BokehJS is being loaded, scheduling callback at\", now());\n      return null;\n    }\n    if (js_urls == null || js_urls.length === 0) {\n      run_callbacks();\n      return null;\n    }\n    console.log(\"Bokeh: BokehJS not loaded, scheduling load and callback at\", now());\n    root._bokeh_is_loading = js_urls.length;\n    for (var i = 0; i < js_urls.length; i++) {\n      var url = js_urls[i];\n      var s = document.createElement('script');\n      s.src = url;\n      s.async = false;\n      s.onreadystatechange = s.onload = function() {\n        root._bokeh_is_loading--;\n        if (root._bokeh_is_loading === 0) {\n          console.log(\"Bokeh: all BokehJS libraries loaded\");\n          run_callbacks()\n        }\n      };\n      s.onerror = function() {\n        console.warn(\"failed to load library \" + url);\n      };\n      console.log(\"Bokeh: injecting script tag for BokehJS library: \", url);\n      document.getElementsByTagName(\"head\")[0].appendChild(s);\n    }\n  };var element = document.getElementById(\"99d4b508-616c-4a68-a552-90ff86001fe4\");\n  if (element == null) {\n    console.log(\"Bokeh: ERROR: autoload.js configured with elementid '99d4b508-616c-4a68-a552-90ff86001fe4' but no matching script tag was found. \")\n    return false;\n  }\n\n  var js_urls = [\"https://cdn.pydata.org/bokeh/release/bokeh-0.12.16.min.js\", \"https://cdn.pydata.org/bokeh/release/bokeh-widgets-0.12.16.min.js\", \"https://cdn.pydata.org/bokeh/release/bokeh-tables-0.12.16.min.js\", \"https://cdn.pydata.org/bokeh/release/bokeh-gl-0.12.16.min.js\"];\n\n  var inline_js = [\n    function(Bokeh) {\n      Bokeh.set_log_level(\"info\");\n    },\n    \n    function(Bokeh) {\n      \n    },\n    function(Bokeh) {\n      console.log(\"Bokeh: injecting CSS: https://cdn.pydata.org/bokeh/release/bokeh-0.12.16.min.css\");\n      Bokeh.embed.inject_css(\"https://cdn.pydata.org/bokeh/release/bokeh-0.12.16.min.css\");\n      console.log(\"Bokeh: injecting CSS: https://cdn.pydata.org/bokeh/release/bokeh-widgets-0.12.16.min.css\");\n      Bokeh.embed.inject_css(\"https://cdn.pydata.org/bokeh/release/bokeh-widgets-0.12.16.min.css\");\n      console.log(\"Bokeh: injecting CSS: https://cdn.pydata.org/bokeh/release/bokeh-tables-0.12.16.min.css\");\n      Bokeh.embed.inject_css(\"https://cdn.pydata.org/bokeh/release/bokeh-tables-0.12.16.min.css\");\n    }\n  ];\n\n  function run_inline_js() {\n    \n    if ((root.Bokeh !== undefined) || (force === true)) {\n      for (var i = 0; i < inline_js.length; i++) {\n        inline_js[i].call(root, root.Bokeh);\n      }if (force === true) {\n        display_loaded();\n      }} else if (Date.now() < root._bokeh_timeout) {\n      setTimeout(run_inline_js, 100);\n    } else if (!root._bokeh_failed_load) {\n      console.log(\"Bokeh: BokehJS failed to load within specified timeout.\");\n      root._bokeh_failed_load = true;\n    } else if (force !== true) {\n      var cell = $(document.getElementById(\"99d4b508-616c-4a68-a552-90ff86001fe4\")).parents('.cell').data().cell;\n      cell.output_area.append_execute_result(NB_LOAD_WARNING)\n    }\n\n  }\n\n  if (root._bokeh_is_loading === 0) {\n    console.log(\"Bokeh: BokehJS loaded, going straight to plotting\");\n    run_inline_js();\n  } else {\n    load_libs(js_urls, function() {\n      console.log(\"Bokeh: BokehJS plotting callback run at\", now());\n      run_inline_js();\n    });\n  }\n}(window));"
     },
     "metadata": {},
     "output_type": "display_data"
    }
   ],
   "source": [
    "output_notebook()"
   ]
  },
  {
   "cell_type": "code",
   "execution_count": 53,
   "metadata": {},
   "outputs": [],
   "source": [
    "subset_df = df.sample(n=5000)"
   ]
  },
  {
   "cell_type": "code",
   "execution_count": 54,
   "metadata": {},
   "outputs": [],
   "source": [
    "p = figure(plot_width=800, plot_height=800)\n",
    "_ = p.text(x=subset_df.x, y=subset_df.y, text=subset_df.token)"
   ]
  },
  {
   "cell_type": "code",
   "execution_count": 55,
   "metadata": {},
   "outputs": [
    {
     "data": {
      "text/html": [
       "\n",
       "<div class=\"bk-root\">\n",
       "    <div class=\"bk-plotdiv\" id=\"f737780b-c13b-4dd3-8ba8-ea4fa0bb34ba\"></div>\n",
       "</div>"
      ]
     },
     "metadata": {},
     "output_type": "display_data"
    },
    {
     "data": {
      "application/javascript": [
       "(function(root) {\n",
       "  function embed_document(root) {\n",
       "    \n",
       "  var docs_json = {\"1148d157-2d1e-45e5-a061-54412cd825e0\":{\"roots\":{\"references\":[{\"attributes\":{},\"id\":\"4bdd05ae-6dc7-46ce-b794-59de44d75f05\",\"type\":\"SaveTool\"},{\"attributes\":{\"callback\":null},\"id\":\"23cf7106-b6e6-43ce-b188-e81dca1b11cd\",\"type\":\"DataRange1d\"},{\"attributes\":{},\"id\":\"de718398-f827-4206-8796-4472f75862ff\",\"type\":\"Selection\"},{\"attributes\":{},\"id\":\"5912c54e-eb80-432e-a747-af063c1a13f4\",\"type\":\"ResetTool\"},{\"attributes\":{},\"id\":\"9156982d-1415-4e1e-9c92-355e1a2718b9\",\"type\":\"LinearScale\"},{\"attributes\":{},\"id\":\"9f769553-188c-4095-a714-20cfdf8b9e38\",\"type\":\"HelpTool\"},{\"attributes\":{},\"id\":\"2ac04d4a-3c3a-44d7-a47b-7f2c85a20782\",\"type\":\"LinearScale\"},{\"attributes\":{\"callback\":null,\"data\":{\"text\":[\"humped\",\"coax\",\"Combe\",\"Gresham\",\"toil\",\"bason\",\"shekels\",\"satisfy\",\"tempting\",\"Leviathans\",\"road\",\"Libni\",\"laboriously\",\"Rabbah\",\"risk\",\"assuring\",\"royalty\",\"bet\",\"conspirator\",\"tame\",\"purged\",\"Doctor\",\"Personality\",\"feebly\",\"sharply\",\"accidental\",\"atonement\",\"Arabians\",\"drive\",\"unto\",\"uniting\",\"nineteen\",\"Search\",\"unreck\",\"undaunted\",\"tropical\",\"Wheeler\",\"inconvenient\",\"methods\",\"many\",\"ponds\",\"Betsy\",\"authorised\",\"exhibited\",\"mortify\",\"instances\",\"twain\",\"timely\",\"persevering\",\"Served\",\"partners\",\"bond\",\"beasts\",\"plentiful\",\"lengthened\",\"elves\",\"limber\",\"Head\",\"precisely\",\"saluting\",\"grunted\",\"escorted\",\"Neuer\",\"Forget\",\"comprised\",\"carnal\",\"pushing\",\"sing\",\"Run\",\"dreadfull\",\"Bull\",\"hinted\",\"entrapped\",\"horrid\",\"Spirit\",\"fabulous\",\"Attend\",\"anyrate\",\"reverberations\",\"Led\",\"heauen\",\"bent\",\"At\",\"exasperated\",\"Making\",\"hempen\",\"forefront\",\"youth\",\",)\",\"injuries\",\"capital\",\"spasm\",\"swearing\",\"extensive\",\"satin\",\"Cocke\",\"during\",\"remorse\",\"drinke\",\"knee\",\"fifteenth\",\"hammered\",\"88\",\"glowed\",\"pardoned\",\"loth\",\"poet\",\"Diuell\",\"soule\",\"Looks\",\"kisse\",\"steering\",\"Uz\",\"leeward\",\"sensibility\",\"Creatures\",\"assaults\",\"block\",\"Rephaiah\",\"Thou\",\"hailed\",\"leaues\",\"normal\",\"doubt\",\"misty\",\"nose\",\"bondman\",\"Marcus\",\"potter\",\"vials\",\"gardeners\",\"Human\",\"repetition\",\"cheek\",\"stolen\",\"raising\",\"14\",\"march\",\"clergyman\",\"eyed\",\"shares\",\"plaister\",\"excellency\",\"declare\",\"Amon\",\"tints\",\"denounced\",\"salvation\",\"spoilt\",\"suggested\",\"next\",\"chances\",\"rumour\",\"steam\",\"persuasion\",\"enforced\",\"dwelleth\",\"Scarcely\",\"Nob\",\"pointedly\",\"spreads\",\"Jerry\",\"Forest\",\"vast\",\"loyalty\",\"wine\",\"Anah\",\"walk\",\"cities\",\"rushed\",\"Friend\",\"abject\",\"resolute\",\"Hilkiah\",\"astride\",\"loveliest\",\"Abdon\",\"accident\",\"report\",\"styled\",\"sedentary\",\"burne\",\"tranquil\",\"hovering\",\"Eliel\",\"buckle\",\"lifetime\",\"sparrow\",\"arm\",\"atheists\",\"Souldier\",\"penny\",\"operations\",\"grandeur\",\"Ratcliffe\",\"Shem\",\"sobriety\",\"identify\",\"82\",\"thoughts\",\"ox\",\"vs\",\"housekeeping\",\"fitted\",\"hearted\",\"lovingly\",\"shuttlecock\",\"darted\",\"dew\",\"rational\",\"monument\",\"NO\",\"Hamor\",\"myrrh\",\"rid\",\"alleged\",\"provoking\",\"continuing\",\"crush\",\"club\",\"ridges\",\"gasp\",\"Literary\",\"measur\",\"alarming\",\"statutes\",\"delightfully\",\"forty\",\"whereat\",\"inside\",\"answerable\",\"morrow\",\"fulfilling\",\"infidel\",\"Hattush\",\"accommodations\",\"drinking\",\"filigree\",\"wholsome\",\"revolution\",\"testifieth\",\"abandon\",\"Cuvier\",\"heresies\",\"cabins\",\"solid\",\"maritime\",\"Last\",\"Act\",\"irregular\",\"Jahaziel\",\"modern\",\"tough\",\"ware\",\"prou\",\"bleating\",\"cart\",\"Venice\",\"Abihu\",\"deacons\",\"Anakims\",\"considering\",\"sweeper\",\"Shittim\",\"limit\",\"cell\",\"leaks\",\"XVII\",\"referred\",\"_your_\",\"Sheba\",\"entertaining\",\"De\",\"hunters\",\"ask\",\"moment\",\"insanity\",\"regret\",\"Drake\",\"sprouts\",\"Esq\",\"acknowledging\",\"Fine\",\"Midsummer\",\"Greeks\",\"descriptions\",\"exclamations\",\"suspicions\",\"remonstrance\",\"censers\",\"entry\",\"neighbor\",\"spices\",\"overcame\",\"hedges\",\"cheese\",\"clam\",\"sheet\",\"varied\",\"refuses\",\"foreskin\",\"survived\",\"lamp\",\"Lucius\",\"harme\",\"Soul\",\"quickest\",\"adore\",\"Teach\",\"worship\",\"angry\",\"invitations\",\"cautiously\",\"Orion\",\"principals\",\"fathom\",\"fervent\",\"Eye\",\"Denmarke\",\"reach\",\"criest\",\"dy\",\"doubled\",\"abroad\",\"despise\",\"likened\",\"imperious\",\"tattered\",\"justly\",\"wallow\",\"rampart\",\"exist\",\"Arnon\",\"soonest\",\"mincing\",\"wasted\",\"sight\",\"attempts\",\"preuent\",\"perturbations\",\"pleasanter\",\"might\",\"uncover\",\"payment\",\"indisposed\",\"upside\",\"instructed\",\"goat\",\"acquisition\",\"lime\",\"Cyrene\",\"106\",\"wrongfully\",\"Vane\",\"determination\",\"confusion\",\"credulous\",\"pan\",\"calculations\",\"kin\",\"destin\",\"Lud\",\"sufficed\",\"define\",\"collapse\",\"porter\",\"closely\",\"Fates\",\"fatherless\",\"heroick\",\"required\",\"Water\",\"another\",\"art\",\"shouted\",\"Fare\",\"civilly\",\"religious\",\"apartments\",\"beauties\",\"learned\",\"improved\",\"Morn\",\"Musgroves\",\"Dagger\",\"Again\",\"drove\",\"helmet\",\"breaketh\",\"abhorreth\",\"troop\",\"oblivious\",\"entreaty\",\"Thessalonica\",\"dedicate\",\"intricate\",\"grate\",\"lawns\",\"thirds\",\"quire\",\"squeaking\",\"going\",\"rub\",\"judicious\",\"19\",\"Ebed\",\"teaches\",\"Archers\",\"shaggy\",\"Mes\",\"frown\",\"_not_\",\"dispersed\",\"Aholibamah\",\"Lima\",\"inexplicable\",\"Prophet\",\"dismal\",\"ungovernable\",\"commonly\",\"Lamech\",\"commanders\",\"Lie\",\"Hormah\",\"sowed\",\"ending\",\"pallid\",\"inure\",\"finished\",\"fearest\",\"forks\",\"taller\",\"jointure\",\"Breast\",\"Kir\",\"adulterous\",\"V\",\"SONGS\",\"Patrick\",\"disguised\",\"Pliny\",\"undertook\",\"bath\",\"guessing\",\"hotter\",\"Met\",\"murmurs\",\"Asaiah\",\"humane\",\"pilgrims\",\"reflectively\",\"stupid\",\"rabbit\",\"TAKE\",\"slay\",\"Moses\",\"especially\",\"sends\",\"Others\",\"refuse\",\"savages\",\"Bombay\",\"barely\",\"slaine\",\"rending\",\"torrent\",\"sojourn\",\"est\",\"anchor\",\"granite\",\"First\",\"Waves\",\"Rule\",\"signified\",\"finishing\",\"poem\",\"ankle\",\"showers\",\"Daggers\",\"morality\",\"statement\",\"A\",\"piety\",\"removal\",\"betweene\",\"burneth\",\"Catholics\",\"oxen\",\"attempt\",\"afflicted\",\"Patty\",\"name\",\"tremble\",\"nought\",\"recognised\",\"tens\",\"vnto\",\"institution\",\"Bethany\",\"accordingly\",\"WANT\",\"plunging\",\"typical\",\"syllable\",\"knot\",\"enormous\",\"swagger\",\"revolver\",\"Blessed\",\"tract\",\"delighteth\",\"though\",\"BARRING\",\"tanner\",\"alas\",\"Italian\",\"exclude\",\"Mull\",\"vehicles\",\"cheered\",\"shores\",\"universe\",\"intentions\",\"occupying\",\"confirmation\",\"gratification\",\"fulfil\",\"tapers\",\"grasshoppers\",\"rubbed\",\"leade\",\"horsemen\",\"Had\",\"revolve\",\"pace\",\"backe\",\"WHALE\",\"Other\",\"needs\",\"simplest\",\"hotels\",\"Enterprize\",\"cavalry\",\"141\",\"stirs\",\"Lotan\",\"audience\",\"sneer\",\"scar\",\"cheerily\",\"soweth\",\"pent\",\"intimately\",\"sulphurous\",\"Pharisee\",\"ANY\",\"Juda\",\"conveying\",\"perceptible\",\"peddler\",\"History\",\"circumference\",\"Nothing\",\"euen\",\"Fellowes\",\"Almost\",\"neat\",\"Nimshi\",\"abolished\",\"offend\",\"sleet\",\"into\",\"tally\",\"travellers\",\"baptism\",\"gay\",\"Magdalene\",\"possessions\",\"verie\",\"Frenchman\",\"indoors\",\"step\",\"dallying\",\"Enough\",\"81\",\"distinguished\",\"worldly\",\"blasphemous\",\"poisoned\",\"layer\",\"indifferent\",\"Quayle\",\"certainly\",\"Pompeyes\",\"relieved\",\"histories\",\"Mine\",\"shure\",\"Devil\",\"treacherous\",\"token\",\"cat\",\"123\",\"bases\",\"wire\",\"whisper\",\"Champion\",\"Sharon\",\"vexed\",\"rat\",\"faithful\",\"soone\",\"haunted\",\"Medes\",\"jury\",\"invariable\",\"atmospheres\",\"scoundrel\",\"butter\",\"offers\",\"submerged\",\"Susan\",\"extraordinary\",\"Coffin\",\"stones\",\"inviting\",\"mulberry\",\"villagers\",\"flame\",\"doubts\",\"wilds\",\"commenced\",\"skin\",\"Philistine\",\"American\",\"annihilation\",\"receiv\",\"target\",\"eaten\",\"isles\",\"storehouses\",\"convinced\",\"groweth\",\"collected\",\"December\",\"quicke\",\"sleepeth\",\"shrieked\",\"ioy\",\"Guild\",\"66\",\"grotesque\",\"symptom\",\"tolerate\",\"railings\",\"disposing\",\"pale\",\"coolness\",\"inseparable\",\"sieve\",\"projecting\",\"serveth\",\"additional\",\"mould\",\"Croft\",\"refreshed\",\"stablish\",\"vnfold\",\"distinguishing\",\"flush\",\"Offices\",\"sift\",\"falleth\",\"balloon\",\"Sword\",\"scorner\",\"decline\",\"Golden\",\"amplest\",\"pairs\",\"leprosy\",\"Both\",\"bye\",\"trampling\",\"haunts\",\"obstinacy\",\"Confusion\",\"runneth\",\"Cobb\",\"platform\",\"hit\",\"lay\",\"deny\",\"unsafe\",\"equatorial\",\"rapport\",\"goe\",\"food\",\"Inside\",\"transgressed\",\"valleys\",\"Rory\",\"chamber\",\"peradventure\",\"protected\",\"leaf\",\"hired\",\"saluted\",\"champagne\",\"liar\",\"poetry\",\"agency\",\"dishonour\",\"plagues\",\"trailing\",\"clash\",\"panted\",\"bursting\",\"existence\",\"mock\",\"jaws\",\"inverted\",\"triumphed\",\"day\",\"Always\",\"resentment\",\"prepossession\",\"Dagda\",\"inevitable\",\"longitude\",\"conditions\",\"sodden\",\"gets\",\"recompence\",\"bucket\",\"avenged\",\"rams\",\"annuity\",\"rigged\",\"perfect\",\"probability\",\"discourse\",\"\\\";\",\"boats\",\"gleamed\",\"commend\",\"hailing\",\"Medeba\",\"deceit\",\"Tun\",\"successive\",\"endeavouring\",\"essential\",\"Hadadezer\",\"disgraced\",\"clinch\",\"Amen\",\"Save\",\"hundredth\",\"nets\",\"Bristol\",\"crews\",\"folks\",\"spikes\",\"Zebedee\",\"clouded\",\"Alone\",\"window\",\"enclose\",\"boom\",\"Lepidus\",\"peremptory\",\"plowed\",\"sailing\",\"Elath\",\"early\",\"similar\",\"desolate\",\"communion\",\"mistaking\",\"welded\",\"recently\",\"overtake\",\"ridge\",\"pervading\",\"indicate\",\"warring\",\"drawer\",\"ironical\",\"Few\",\"powre\",\"creeps\",\"lamenting\",\"slippery\",\"passions\",\"memorial\",\"suspect\",\"revealing\",\"confronted\",\"blackness\",\"melt\",\"abased\",\"desired\",\"ample\",\"Starbuck\",\"controversy\",\"doleful\",\"muddy\",\"created\",\"_had_\",\"torches\",\"thrill\",\"wil\",\"emphasis\",\"Amid\",\"liberal\",\"drawing\",\"Suppose\",\"fuller\",\"body\",\"barbs\",\"ally\",\"tend\",\"Shallum\",\"beats\",\"Bethlehemjudah\",\"scarce\",\"odious\",\"dish\",\"Dashwood\",\"Perfectly\",\"commonest\",\"aristocratic\",\"growl\",\"Cauldron\",\"murmur\",\"portrait\",\"shops\",\"movements\",\"foule\",\"subdue\",\"NANTUCKET\",\"charged\",\"reeling\",\"spite\",\"hued\",\"soldier\",\"lawyers\",\"Hands\",\"Vashti\",\"Shealtiel\",\"Seest\",\"ME\",\"Chinese\",\"mostly\",\"distinguish\",\"Abednego\",\"stepped\",\"one\",\"vote\",\"secondly\",\"denied\",\"missed\",\"wishing\",\"travel\",\"enlivened\",\"twopence\",\"coarse\",\"enemies\",\"threshing\",\"safer\",\"crieth\",\"mournful\",\"accept\",\"Henceforth\",\"AHAB\",\"wanteth\",\"bear\",\"invalid\",\"vinegar\",\"rapidly\",\"pricked\",\"policemen\",\"perfection\",\"alacrity\",\"reigns\",\"folding\",\"bore\",\"corrupt\",\"Go\",\"Fanshaw\",\"soften\",\"face\",\"Baal\",\"mortall\",\"choked\",\"tempest\",\"list\",\"pointed\",\"wandered\",\"Ahimelech\",\"scab\",\"Command\",\"utter\",\"Michael\",\"helped\",\"attach\",\"Egyptians\",\"Hophni\",\"Rising\",\"keeping\",\"Surely\",\"congratulations\",\"parables\",\"measureless\",\"tastes\",\"far\",\"expenses\",\"proclamation\",\"--\",\"Jehoash\",\"till\",\"appeals\",\"caw\",\"thoughtless\",\"airy\",\"grounds\",\"sights\",\"Messiah\",\"engaged\",\"dents\",\"Ma\",\"exclaim\",\"came\",\"Palmer\",\"plaintiffs\",\"passengers\",\"150\",\"Israelitish\",\"fired\",\"can\",\"involved\",\"theoretic\",\"drawings\",\"exclaiming\",\"91\",\"tooth\",\"nailed\",\"assisting\",\"detective\",\"Parkinson\",\"Pennsylvania\",\"Baruch\",\"Delilah\",\"raillery\",\"Maurice\",\"hospital\",\"er\",\"tribulation\",\"priests\",\"Michaiah\",\"Fred\",\"Zebadiah\",\"Galilee\",\"Amoz\",\"key\",\"cankerworm\",\"extremes\",\"intoxicated\",\"bereave\",\"ripening\",\"finde\",\"firewood\",\"THIS\",\"absurd\",\"delighted\",\"violence\",\"Iddo\",\"shirts\",\"anticipating\",\"heauy\",\"sermon\",\"Calais\",\"vest\",\"Kentucky\",\"disputing\",\"&\",\"invoke\",\"pence\",\"Purim\",\"Ammishaddai\",\"promoting\",\"Nazarite\",\"assurances\",\"dissolved\",\"snuff\",\"brit\",\"compassion\",\"don\",\"mockers\",\"prostitute\",\"swore\",\"Downs\",\"fortitude\",\"bolster\",\"beards\",\"frontiers\",\"iron\",\"memories\",\"carefulness\",\"indulgence\",\"indicated\",\"thrown\",\"casually\",\"Somehow\",\"fancied\",\"hinting\",\"chronicles\",\"prevailed\",\"backward\",\"endured\",\"pirates\",\"Gall\",\"do\",\"least\",\"usefulness\",\"persecutors\",\"different\",\"gills\",\"solicitude\",\"marching\",\"repaired\",\"women\",\"commotion\",\"everything\",\"tasted\",\"ensign\",\"culture\",\"perpendicular\",\"regard\",\"engraved\",\"departed\",\"hieroglyphic\",\"sunder\",\"afterwards\",\"shouldest\",\"ministration\",\"reasonable\",\"saved\",\"rue\",\"heathen\",\"bite\",\"rous\",\"Fedallah\",\"laborers\",\"inland\",\"heels\",\"tie\",\"does\",\"surged\",\"Luc\",\"admirers\",\"anarchist\",\"unmanageable\",\"delicately\",\"hundreds\",\"straitness\",\"entertain\",\"rural\",\"scroll\",\"ene\",\"veil\",\"idiotic\",\"Pomfret\",\"neatly\",\"chewed\",\"government\",\"Durand\",\"grass\",\"indignant\",\"steps\",\"epistle\",\"frighted\",\"84\",\"knitted\",\"equally\",\"Darius\",\"sorrowful\",\"Doth\",\"Empire\",\"Mammy\",\"seised\",\"decisively\",\"runs\",\"car\",\"porters\",\"Amorites\",\"Langsdorff\",\"lounging\",\"Began\",\"panes\",\"Obededom\",\"trailed\",\"spine\",\"warriors\",\"languishing\",\"Ariel\",\"bellowing\",\"Ha\",\"enjoying\",\"wish\",\"jagged\",\"le\",\"Kidd\",\"barren\",\"stick\",\"Dawlish\",\"bayonets\",\"Aholah\",\"fearfully\",\"dissolve\",\"dally\",\"Serug\",\"added\",\"imprisoned\",\"weedy\",\"smothered\",\"soul\",\"readiness\",\"certainties\",\"Silent\",\"Heard\",\"footpath\",\"Scotland\",\"disturbed\",\"son\",\"refreshment\",\"wool\",\"followeth\",\"sketches\",\"acknowledgment\",\"grieved\",\"tuft\",\"fruitless\",\"assertions\",\"impaired\",\"owner\",\"murder\",\"founder\",\"unexpectedly\",\"knotted\",\"strides\",\"scotcher\",\"disgusting\",\"Courage\",\"handkerchief\",\"patch\",\"Is\",\"Salmon\",\"Pedahzur\",\"Machpelah\",\"eighty\",\"triangular\",\"aspects\",\"hat\",\"axis\",\"opposite\",\"fulness\",\"Wherefore\",\"hewers\",\"solicited\",\"shoved\",\"VI\",\"intimate\",\"afterward\",\"book\",\"gendarmes\",\"approbation\",\"escapeth\",\"faithfulness\",\"foremast\",\"capitol\",\"syllables\",\"grammar\",\"prosaic\",\"Ides\",\"gasps\",\"jewel\",\"Forasmuch\",\"vapour\",\"Lightfoot\",\"vanishing\",\"fiercest\",\"messenger\",\"IN\",\"verdant\",\"HER\",\"People\",\"Virtues\",\"crowning\",\"Mediterranean\",\"Maiestie\",\"expert\",\"wrung\",\"empty\",\"eight\",\"irons\",\"inserted\",\"Lyca\",\"thumb\",\"crosses\",\"implied\",\"Molech\",\"reviving\",\"sunny\",\"scornful\",\"sawest\",\"senseless\",\"alertness\",\"forgive\",\"Pul\",\"fossils\",\"regarding\",\"135\",\"Fashion\",\"climbed\",\"budding\",\"repair\",\"borders\",\"delivery\",\"63\",\"weary\",\"Earth\",\"batter\",\"cracks\",\"Hearing\",\"potato\",\"triumphs\",\"harm\",\"beseeching\",\"its\",\"Eliza\",\"groaning\",\"penitent\",\"dwellest\",\"sympathize\",\"lids\",\"jingle\",\"wilt\",\"secured\",\"Adam\",\"rejoice\",\"mee\",\"Sardis\",\"excuse\",\"behinde\",\"mariner\",\"shield\",\"film\",\"Falling\",\"taffrail\",\"paved\",\"Asse\",\"refined\",\"counsellors\",\"wonder\",\"godly\",\"abstract\",\"industrious\",\"expectation\",\"prick\",\"budded\",\"scratched\",\"fidelity\",\"remotest\",\"Us\",\"76\",\"plain\",\"thrift\",\"captive\",\"bored\",\"dwelt\",\"arise\",\"Everyone\",\"stairs\",\"forenoon\",\"improvements\",\"sell\",\"pilgrimage\",\"fetched\",\"Mar\",\"compasseth\",\"meaningless\",\"recollected\",\"tows\",\"cream\",\"Cas\",\"prisoners\",\"please\",\"camerado\",\"interfering\",\"shouldst\",\"regardeth\",\"forsook\",\"confectioner\",\"manger\",\"armoury\",\"shoemaker\",\"improving\",\"sucked\",\"TREE\",\"According\",\"deals\",\"decision\",\"appearances\",\"oil\",\"agent\",\"scold\",\"et\",\"lonely\",\"firme\",\"hesitate\",\"bushy\",\"foxes\",\"unfairly\",\"tasks\",\"gayly\",\"Haply\",\"behaved\",\"21\",\"salted\",\"types\",\"garnished\",\"ideal\",\"interests\",\"regrets\",\"ceiling\",\"Fairfax\",\"European\",\"twigs\",\"electric\",\"Trick\",\"supple\",\"stature\",\"thickly\",\"juicy\",\"authority\",\"frequented\",\"laboureth\",\"rifle\",\"else\",\"thorn\",\"discussion\",\"Ono\",\"ashore\",\"feebleness\",\"sicke\",\"ditch\",\"proportions\",\"monstrosity\",\"prying\",\"hands\",\"prejudice\",\"ruling\",\"Eli\",\"purposed\",\"piano\",\"carpet\",\"Eliphelet\",\"rottenness\",\"besought\",\"Abimelech\",\"vex\",\"sanctified\",\"Muskrat\",\"witnessed\",\"selling\",\"dessert\",\"crust\",\"dimensions\",\"traitors\",\"gladly\",\"so\",\"attentively\",\"brings\",\"murk\",\"circumstance\",\"swinging\",\"substances\",\"tight\",\"manservant\",\"watched\",\"Sometimes\",\"bleeding\",\"dust\",\"prior\",\"recent\",\"Sumatra\",\"Asher\",\"endeavoured\",\"dwells\",\"meekness\",\"stuff\",\"games\",\"council\",\"flye\",\".--\\\"\",\"incense\",\"whiskers\",\"hills\",\"nuts\",\"resting\",\"calls\",\"Reuben\",\"river\",\"tap\",\"summit\",\"setting\",\"Oh\",\"offensive\",\"wearily\",\"Timnah\",\"tyranny\",\"shake\",\"Ryan\",\"decay\",\"Crow\",\"railway\",\"laughter\",\"Leah\",\"beguile\",\"considers\",\"zones\",\"wealth\",\"Doeg\",\"Omnipotent\",\"Tash\",\"Countrymen\",\"strip\",\"Fire\",\"defended\",\"accordance\",\"ornamented\",\"Shinar\",\"Bashemath\",\"gruffly\",\"Pool\",\"classic\",\"cleansed\",\"moonlight\",\"terrific\",\"space\",\"affect\",\"robin\",\"Fear\",\"self\",\"Sixteen\",\"sources\",\"except\",\"crucify\",\"Jersey\",\"cadence\",\"matched\",\"objection\",\"efforts\",\"stroll\",\"west\",\"shelter\",\"Sure\",\"winter\",\"weird\",\"Look\",\"undulating\",\"meteors\",\"arrogance\",\"cursed\",\"offences\",\"setteth\",\"profoundest\",\"ethereal\",\"screw\",\"cowslip\",\"garments\",\"talkative\",\"emptied\",\"beforetime\",\"moons\",\"Shobal\",\"torrid\",\"colossal\",\"But\",\"suppose\",\"meete\",\"anxiety\",\"Urijah\",\"arrangements\",\"anointed\",\"T\",\"yoke\",\"hopelessly\",\"add\",\"quitted\",\"renewed\",\"promised\",\"expanse\",\"attendant\",\"retiring\",\"ignoble\",\"stalks\",\"regretted\",\"ragged\",\"surge\",\"Calphurnia\",\"ascended\",\"giant\",\"ravening\",\"Lucil\",\"keep\",\"cataract\",\"dumbe\",\"luminous\",\"smitten\",\"springs\",\"bawling\",\"companion\",\"Print\",\"fill\",\"ordained\",\"promising\",\"particulars\",\"exploring\",\"broughtest\",\"emotional\",\"iniquities\",\"frozen\",\"womb\",\"saidst\",\"sandwiches\",\"hull\",\"corresponding\",\"loosened\",\"mind\",\"Bell\",\"sisters\",\"show\",\"relatives\",\"agreeing\",\"entreated\",\"girls\",\"SHALL\",\"beareth\",\"comfortably\",\"street\",\"Forms\",\"Madam\",\"columns\",\"Roman\",\"postillion\",\"buy\",\"Who\",\"born\",\"application\",\"Tirshatha\",\"centuries\",\"shattering\",\"creditor\",\"brigands\",\"connections\",\"dragons\",\"terms\",\"drowning\",\"inventors\",\"laws\",\"petty\",\"bliss\",\"sinewy\",\"companionship\",\"mixing\",\"discontent\",\"Underneath\",\"possesses\",\"hap\",\"Sail\",\"cruel\",\"lightened\",\"antique\",\"pageant\",\"pensive\",\"singer\",\"affects\",\"partnership\",\"fatness\",\"HIM\",\"shyness\",\"M\",\"excited\",\"chisel\",\"smiling\",\"unruly\",\"Zelophehad\",\"Ithamar\",\"gloriously\",\"Marlborough\",\"jot\",\"tightly\",\"lobsters\",\"consecrated\",\"conquer\",\"Suddenly\",\"sevenfold\",\"encounter\",\"sundry\",\"retained\",\"defiled\",\"Sounds\",\"indulged\",\"adopted\",\"rack\",\"tales\",\"observe\",\"Letters\",\"draughts\",\"mustn\",\"bad\",\"local\",\"goodman\",\"Princes\",\"beastly\",\"cape\",\"Queen\",\"bays\",\"Levites\",\"--(\",\"purpose\",\"lustre\",\"hangs\",\"NOW\",\"stole\",\"cousins\",\"liers\",\"sly\",\"crucifix\",\"swiftest\",\"swam\",\"Arthur\",\",'\\\"\",\"trades\",\"59\",\"crimes\",\"JESUS\",\"whipped\",\"resolving\",\"scolded\",\"hook\",\"stately\",\"automatic\",\"apparel\",\"XV\",\"OLD\",\"Jabin\",\"Kedesh\",\"poised\",\"potatoes\",\"hath\",\"exertions\",\"intermission\",\"descent\",\"Whiles\",\"oceans\",\"DO\",\"wounding\",\"persecution\",\"sower\",\"Arise\",\"brig\",\"persevere\",\"Gray\",\"artificial\",\"Living\",\"fondness\",\"Burgundy\",\"Priscilla\",\"attendants\",\"Urim\",\"favoured\",\"pours\",\"Quick\",\"escaped\",\"honourable\",\"throng\",\"Delaford\",\"firmer\",\"G\",\"Nebo\",\"HIS\",\"gifts\",\"Freedom\",\"machines\",\"adultery\",\"Cadiz\",\"briskly\",\"lined\",\"strained\",\"messengers\",\"sink\",\"sentry\",\"abstracted\",\"Off\",\"opportunity\",\"injure\",\"tale\",\"New\",\"charms\",\"thereto\",\"}\",\"thereunto\",\"shewest\",\"Gone\",\"134\",\"ceasing\",\"searching\",\"orators\",\"BACK\",\"renewing\",\"purple\",\"banished\",\".'\",\"defeats\",\"season\",\"Milsom\",\"reply\",\"mutually\",\"country\",\"follow\",\"cabs\",\"dis\",\"Heidelburgh\",\"lost\",\"Lives\",\"indisputable\",\"niece\",\"openings\",\"literary\",\"starved\",\"Hor\",\"homely\",\"logic\",\"business\",\"assertion\",\"smelling\",\"secret\",\"110\",\"posts\",\"buildings\",\"replenished\",\"withal\",\"comparison\",\"oracle\",\"wild\",\"luxurious\",\"scenes\",\"shaft\",\"unaccountably\",\"planting\",\"Mogul\",\"brutal\",\"counsels\",\"thoroughfares\",\"ecstatic\",\"Zaccur\",\"thinker\",\"bringest\",\"brother\",\"complaints\",\"traffick\",\"wield\",\"suggest\",\"roll\",\"Tola\",\"touching\",\"squaw\",\"lo\",\"symphonies\",\"Cowdray\",\"frantic\",\"inlaid\",\"wrote\",\"knowledge\",\"unquiet\",\"Hushai\",\"grant\",\"carcases\",\"Celtic\",\"bonnets\",\"Meremoth\",\"rails\",\"Bragge\",\"trusted\",\"Shaul\",\"maid\",\"etc\",\"51\",\"acts\",\"select\",\"toiling\",\"regal\",\"glorify\",\"Beleeue\",\"drip\",\"crippled\",\"oh\",\"juncture\",\"Leonora\",\"promoted\",\"Charge\",\"failed\",\"Ethiopian\",\"Though\",\"Halloa\",\"promise\",\"midway\",\"bishop\",\"Otto\",\"chose\",\"Wise\",\"magnify\",\"shroud\",\"K\",\"Capitoll\",\"despaired\",\"ruler\",\"ONE\",\"loomed\",\"stomach\",\"bathed\",\"picking\",\"breastplate\",\"broad\",\"Herodias\",\"ceremonious\",\"Elias\",\"uniforms\",\"borrowed\",\"Secunda\",\"partner\",\"gingerbread\",\"distributed\",\"Churchill\",\"Gertrude\",\"Collection\",\"conceiving\",\"hoppity\",\"parties\",\"devices\",\"rolls\",\"Marah\",\"beholding\",\"clinking\",\"abused\",\"lap\",\"Paul\",\"rumors\",\"Mansion\",\"complain\",\"sunlight\",\"Far\",\"peaceably\",\"endangered\",\"sensations\",\"mortifying\",\"_him_\",\"Seems\",\"resignation\",\"depending\",\"frame\",\"outspread\",\"sleepest\",\"infancy\",\"farms\",\"tangle\",\"desirous\",\"extended\",\"violent\",\"prairie\",\"CAN\",\"Ocean\",\"hues\",\"approaching\",\"trace\",\"thronged\",\"clothed\",\"crisis\",\"slavery\",\"verses\",\"Stephen\",\"affluence\",\"hailstones\",\"discover\",\"unwholesome\",\"psaltery\",\"fruit\",\"FRENCH\",\"subjection\",\"astray\",\"Tall\",\"lighted\",\"forward\",\"myths\",\"plow\",\"slender\",\"stuffe\",\"cannons\",\"untie\",\"_his_\",\"Hutton\",\"besiege\",\"vitality\",\"vagabond\",\"Nose\",\"subterranean\",\"hindered\",\"mortals\",\"dale\",\"Norland\",\"meanest\",\"Gardens\",\"repress\",\"Jobab\",\"shutter\",\"Eden\",\"Bethhoron\",\"Rest\",\"social\",\"sacks\",\"dirt\",\"dey\",\"stays\",\"throbbing\",\"bullet\",\"Franklin\",\"hasted\",\"Boulnois\",\"sagacity\",\"rising\",\"position\",\"reluctantly\",\"spit\",\"dense\",\"waiteth\",\"rap\",\"drown\",\"flip\",\"police\",\"paced\",\"gourd\",\"Moved\",\"coupling\",\"gratitude\",\"ranges\",\"Neill\",\"deserves\",\"ideas\",\"echo\",\"Carolina\",\"steadiness\",\"accomplices\",\"feelings\",\"sham\",\"clang\",\"signifies\",\"endeavor\",\"Hood\",\"valley\",\"preferred\",\"Oxford\",\"eagerness\",\"Randalls\",\"subtly\",\"Mrs\",\"possibly\",\"crackling\",\"militant\",\"inflicted\",\"furbished\",\"standeth\",\"sideways\",\"Sunda\",\"winked\",\"Zebulun\",\"tramp\",\"dry\",\"admirable\",\"howling\",\"flights\",\"native\",\"tranquillity\",\"advised\",\"tarry\",\"inquiry\",\"swung\",\"Montem\",\"heaviness\",\"widowhood\",\"adjure\",\"perception\",\"grumbling\",\"selecting\",\"undressed\",\"boy\",\");\",\"apologetically\",\"Zeeb\",\"counteract\",\"Eleazar\",\"plots\",\"Harris\",\"clusters\",\"sweating\",\"traced\",\"Leicester\",\"magistrates\",\"ascent\",\"tore\",\"gleaming\",\"Jerubbaal\",\"perceiue\",\"denoted\",\"pianoforte\",\"children\",\"free\",\"DID\",\"jungle\",\"Stubb\",\"Natures\",\"meekly\",\"frivolous\",\"scrip\",\"C\",\"English\",\"As\",\"generall\",\"eternity\",\"any\",\"treason\",\"She\",\"Court\",\"disadvantage\",\"untoward\",\"tankard\",\"dear\",\"Rat\",\"High\",\"cigarette\",\"seventh\",\"buoyant\",\"foreskins\",\"noble\",\"Croker\",\"Dough\",\"Meribah\",\"hatches\",\"rests\",\"defeated\",\"pigeon\",\"influence\",\"reflections\",\"nest\",\"Jane\",\"F\",\"harps\",\"vindictive\",\"remembrances\",\"frogs\",\"marke\",\"seeketh\",\"redeemed\",\"death\",\"restrain\",\"motto\",\"steered\",\"plausible\",\"sinned\",\"murderers\",\"Town\",\"melting\",\"architect\",\"blesseth\",\"portraits\",\"forget\",\"oppression\",\"clay\",\"pestilence\",\"kidneys\",\"arresting\",\"pronounced\",\"respected\",\"rounds\",\"revolutionary\",\"beckoning\",\"warp\",\"chocks\",\"our\",\"underground\",\"raisins\",\"trance\",\"wit\",\"J\",\"Eshtemoa\",\"type\",\"office\",\"diseas\",\"goeth\",\"hospitals\",\"instructions\",\"Lenox\",\"chained\",\"Zin\",\"pouring\",\"across\",\"snatch\",\"candlesticks\",\"sour\",\"jack\",\"Infinite\",\"axes\",\"speechless\",\"Secretary\",\"uncle\",\"spiritual\",\"flashed\",\"imaginary\",\"heights\",\"stare\",\"creditable\",\"bolted\",\"Gabriel\",\"Shaphan\",\"nameless\",\"grandmother\",\"fell\",\"cooper\",\"dwellingplaces\",\"damp\",\"suffereth\",\"Maple\",\"completely\",\"tax\",\"warble\",\"judge\",\"goes\",\"Mark\",\"traditions\",\"lifting\",\"magpie\",\"screamed\",\"FOLIO\",\"Cut\",\"amply\",\"undefiled\",\"pickle\",\"stacks\",\"curling\",\"prophesying\",\"blue\",\"Manasseh\",\"leant\",\"willows\",\"Everybody\",\"arrest\",\"unavoidable\",\"Seyward\",\"gait\",\"guilt\",\"stop\",\"stript\",\"foolishly\",\"Guernsey\",\"spirit\",\"monks\",\"Bedford\",\"bishops\",\"Philip\",\"concentrated\",\"glint\",\"splashed\",\"persisted\",\"stink\",\"birthday\",\"principalities\",\"tm\",\"introduction\",\"anti\",\"disgust\",\"drest\",\"information\",\"shrouds\",\"jar\",\"follows\",\"gilded\",\"allowable\",\"Thursday\",\"hesitated\",\"conveyance\",\"mound\",\"wake\",\"Magna\",\"architecture\",\"Consequently\",\"defy\",\",'\",\"glittering\",\"e\",\"tops\",\"charity\",\"vacancy\",\"harpers\",\"Stop\",\"blueberries\",\"Fall\",\"money\",\"Pompey\",\"Messa\",\"comming\",\"clouds\",\"rejected\",\"debtors\",\"eastward\",\"accompanied\",\"hapless\",\"mother\",\"Yea\",\"generosity\",\"management\",\"preventing\",\"curse\",\"fantastic\",\"rooms\",\"class\",\"Hee\",\"softness\",\"Baalah\",\"be\",\"Ur\",\"phase\",\"physical\",\"sweeping\",\"speedy\",\"recoil\",\"falsehood\",\"canal\",\"Shepherd\",\"with\",\"DOES\",\"flock\",\"Tyrus\",\"embodied\",\"travaileth\",\"Sing\",\"style\",\"Reu\",\"Won\",\"privately\",\"miserably\",\"Rather\",\"grander\",\"direct\",\"essentially\",\"character\",\"**\",\"wildest\",\"Gath\",\"telescope\",\"devoid\",\"tooke\",\"parable\",\"4\",\"Every\",\"uneasy\",\"dances\",\"undying\",\"gain\",\"subtlest\",\"harmony\",\"ministers\",\"Dyes\",\"Prison\",\"dictionary\",\"Roll\",\"packing\",\"vicissitudes\",\"Hopkins\",\"Wherein\",\"Myself\",\"Whereas\",\"Josiah\",\"Bela\",\"tenderness\",\"impudent\",\"bide\",\"ballad\",\"receives\",\"look\",\"Kansas\",\"guns\",\"almond\",\"Ephah\",\"thrusting\",\"splendid\",\"Rehob\",\"Persian\",\"butler\",\"aged\",\"eternall\",\"leprous\",\"--`\",\"bolt\",\"magistrate\",\"canst\",\"bending\",\"cavity\",\"deeply\",\"nosegay\",\"palate\",\"conscientious\",\"snapped\",\"Gold\",\"Speaking\",\"enjoys\",\"mocks\",\"Armagnac\",\"radish\",\"judgement\",\"bags\",\"94\",\"allegory\",\"handled\",\"scraping\",\"seduce\",\"understand\",\"Ramadan\",\"extant\",\"workmanship\",\"thyself\",\"strengtheneth\",\"Seyton\",\"gaining\",\"Alas\",\"volition\",\"brightest\",\"Ahithophel\",\"floated\",\"specimen\",\"Peru\",\"visible\",\"Sunne\",\"analogy\",\"chips\",\"Agrippa\",\"madman\",\"greasy\",\"wrecks\",\"patent\",\"barbarians\",\"Bustle\",\"incensed\",\"jug\",\"mole\",\"crawled\",\"vital\",\"Isles\",\"absorb\",\"legends\",\"Ammonites\",\"Sense\",\"scientific\",\"reproved\",\"goodwill\",\"inclinations\",\"lent\",\"revenue\",\"Passage\",\"contended\",\"spray\",\"effort\",\"exhort\",\"scepticism\",\"heardest\",\"featured\",\"perils\",\"Middle\",\"minor\",\"speak\",\"Mast\",\"com\",\"rebuked\",\"Ittai\",\"Your\",\"is\",\"oaken\",\"press\",\"heal\",\"Micaiah\",\"sinews\",\"unbar\",\"THEL\",\"vainly\",\"arithmetic\",\"describing\",\"agreeable\",\"Marriage\",\"feet\",\".\",\"following\",\"trundle\",\"Cinna\",\"shoals\",\"courses\",\"basest\",\"bandstand\",\"Blow\",\"motions\",\"hooks\",\"unkind\",\"destroying\",\"sweets\",\"seers\",\"mechanics\",\"Voices\",\"Join\",\"express\",\"crater\",\"footsteps\",\"sure\",\"carbuncle\",\"caves\",\"means\",\"Absalom\",\"complained\",\"Money\",\"Drive\",\"Pirathonite\",\"witnesses\",\"immemorial\",\"\\\"`\",\"separating\",\"Hawker\",\"stages\",\"seas\",\"Zelia\",\"outrageous\",\"legend\",\"removing\",\"Mesopotamia\",\"agitation\",\"happened\",\"couched\",\"drums\",\"pedigree\",\"beset\",\"Jericho\",\"content\",\"sins\",\"Whitwell\",\"clock\",\"Dick\",\"Warre\",\"Light\",\"approve\",\"received\",\"he\",\"lances\",\"waste\",\"patience\",\"catch\",\"pluck\",\".\\\"\",\"mediator\",\"heed\",\"whitewashed\",\"sober\",\"yielding\",\"object\",\"chanc\",\"Somerville\",\"ALL\",\"suite\",\"ash\",\"arrive\",\"wisedome\",\"Jemima\",\"simpler\",\"concluding\",\"brought\",\"troubleth\",\"locusts\",\"dictate\",\"unlucky\",\"Crying\",\"commission\",\"Bar\",\"pursuits\",\"dedicated\",\"yourselves\",\"benediction\",\"effects\",\"secrets\",\"punished\",\"Adonijah\",\"gotten\",\"limb\",\"engagements\",\"throbs\",\"nails\",\"upstairs\",\"Meshach\",\"Victory\",\"drawn\",\"ordain\",\"Passion\",\"akin\",\"sob\",\"Fairy\",\"faint\",\"magic\",\"assume\",\"triple\",\"locust\",\"dejection\",\"thistle\",\"sluggard\",\"noticed\",\"eBooks\",\"midnight\",\"athletic\",\"curves\",\"animal\",\"rounded\",\"neighbour\",\"These\",\"flowing\",\"razor\",\"sacrificing\",\"fixedly\",\";\\\"--\",\"confound\",\"drop\",\"Archive\",\"Jerimoth\",\"circumcised\",\"Hezekiah\",\"Besides\",\"FROM\",\"situation\",\"trousers\",\"contest\",\"shoulders\",\"confuse\",\"unusual\",\"sauntering\",\"Cornish\",\"distant\",\"Zibeon\",\"satisfies\",\"herdmen\",\"rewardeth\",\"reckless\",\"vanities\",\"relieve\",\"eyes\",\"endeavours\",\"watchful\",\"begins\",\"Creator\",\"enveloping\",\"He\",\"practice\",\"submitting\",\"professor\",\"Thinke\",\"yarn\",\"arsenal\",\"yawn\",\"thinner\",\"viewed\",\"militia\",\"slipped\",\"di\",\"Walter\",\"Poet\",\"bowsprit\",\"boyish\",\"nativity\",\"swine\",\"cannibal\",\"Lamb\",\"inaccessible\",\"echoing\",\"fountain\",\"execution\",\"set\",\"jumping\",\"fiends\",\"Joab\",\"stripped\",\"!\",\"Tyrant\",\"Onan\",\"tenor\",\"98\",\"creatures\",\"dire\",\"spend\",\"Tarlton\",\"jumped\",\"fork\",\"employed\",\"bloodshed\",\"pangs\",\"gate\",\"recover\",\"continental\",\"Improvisatore\",\"modestly\",\"changing\",\"periods\",\"sounding\",\"fullest\",\"intuitions\",\"dull\",\"Sold\",\"bethink\",\"Fox\",\"tenons\",\"penetrating\",\"Gay\",\"Field\",\"believing\",\"parts\",\"hammer\",\"swallow\",\"Confess\",\"climbs\",\"Caterpillar\",\"injustice\",\"tunes\",\"Lystra\",\"Jehu\",\"queen\",\"Claudio\",\"dynamite\",\"timidity\",\"levelled\",\"string\",\"javelin\",\"utterance\",\"looketh\",\"habitual\",\"their\",\"time\",\"WELL\",\"Rivers\",\"Jimmy\",\"families\",\"Saracen\",\"Didn\",\"horns\",\"latch\",\"market\",\"steady\",\"mans\",\"hospitable\",\"furiously\",\"enlighten\",\"Campbells\",\"despairing\",\"glistened\",\"letter\",\"retrospective\",\"lave\",\"unmoved\",\"constrain\",\"ray\",\"bleached\",\"ridicule\",\"sadness\",\"premises\",\"draweth\",\"blooming\",\"wares\",\"----\\\"\",\"warn\",\"bearest\",\"civil\",\"barricade\",\"acknowledged\",\"gleam\",\"?--\",\"nasty\",\"jets\",\"deaf\",\"Saints\",\"stationary\",\"alter\",\"tumbler\",\"magnet\",\"brave\",\"watches\",\"crab\",\"giver\",\"section\",\"anything\",\"enduring\",\"custome\",\"white\",\"detached\",\"details\",\"shelves\",\"subiect\",\"pervert\",\"blew\",\"carelessly\",\"decree\",\"gains\",\"China\",\"angular\",\"reaching\",\"invested\",\"Matthew\",\"Lands\",\"Sin\",\"copying\",\"Hittite\",\"confess\",\"composing\",\"bellow\",\"seems\",\"thereof\",\"individuality\",\"unlikely\",\"Weave\",\"approving\",\"disengaged\",\"whelps\",\"crossing\",\"steward\",\"Ezza\",\"Numbers\",\"announce\",\"teares\",\"evermore\",\"severity\",\"invoked\",\"yawned\",\"gorge\",\"rope\",\"chest\",\"Ephraimites\",\"fatigues\",\"soothe\",\"destination\",\"toothpick\",\"oblique\",\"seize\",\"graciousness\",\"extraordinarily\",\"pretty\",\"cares\",\"throughout\",\"echoed\",\"Pipe\",\"particularly\",\"little\",\"grimly\",\"signify\",\"several\",\"oaths\",\"sooner\",\"chip\",\"detectives\",\"hazarded\",\"ninth\",\"sentenced\",\"decently\",\"homeward\",\"twins\",\"myriads\",\"ears\",\"difficulties\",\"shady\",\"taskmasters\",\"amend\",\"eyesight\",\"failure\",\"Greater\",\"fourteenth\",\"chants\",\"efficient\",\"Jackal\",\"proposals\",\"Margaret\",\"governors\",\"whim\",\"foul\",\"mocketh\",\"exhilarating\",\"cope\",\"Amnon\",\"maine\",\"heap\",\"reader\",\"reasoning\",\"darkening\",\"humouredly\",\"premature\",\"biggest\",\"community\",\"consult\",\"Zarhites\",\"Alligator\",\"Thenceforth\",\"SIR\",\"Hazeroth\",\"dissimilar\",\"breeze\",\"Jair\",\"courteous\",\"Barton\",\"Soule\",\"blending\",\"gnawing\",\"demoniac\",\"apparitions\",\"holiness\",\"wastes\",\"Arabian\",\"breathe\",\"lease\",\"Drum\",\"Verily\",\"require\",\"poor\",\"False\",\"leaping\",\"uttermost\",\"dedication\",\"company\",\"36\",\"behind\",\"heareth\",\"male\",\"farther\",\"Assyrians\",\"Laertes\",\"wending\",\"dancers\",\"infection\",\"unpunished\",\"pig\",\"104\",\"astonishing\",\"mitre\",\"seemes\",\"';\",\"swarm\",\"spoke\",\"elemental\",\"think\",\"effected\",\"multiplied\",\"semi\",\"regain\",\"Yet\",\"surprize\",\"brief\",\"Indies\",\"crushing\",\"ministered\",\"scan\",\"verdure\",\"horizontal\",\"trieth\",\"labour\",\"nobody\",\"Cain\",\"speakes\",\"Loveit\",\"Considering\",\"restaurant\",\"buzz\",\"shifting\",\"composite\",\"renounce\",\"rigour\",\"LORD\",\"brink\",\"lived\",\"entitled\",\"Wisdom\",\"Draw\",\"sharpest\",\"also\",\"warrant\",\"carefully\",\"Abram\",\"watering\",\"weaker\",\"mischief\",\"diseases\",\"Within\",\"Guildensterne\",\"revelations\",\"constellations\",\"WHO\",\"leaders\",\"Death\",\"landing\",\"Sent\",\"Sister\",\"dived\",\"jealous\",\"strictly\",\"recurring\",\"studious\",\"Orleans\",\"quiver\",\"Broke\",\"mustard\",\"speeches\",\"Three\",\"wholesome\",\"markets\",\"compasses\",\"document\",\"condescend\",\"watching\",\"beef\",\"valiant\",\"Ziph\",\"rested\",\"Zorah\",\"upheld\",\"new\",\"lava\",\"defined\",\"misery\",\"draws\",\"aloes\",\"despiseth\",\"billows\",\"Miriam\",\"Gibeah\",\"start\",\"impartial\",\"Whereto\",\"trap\",\"asunder\",\"night\",\"dispel\",\"Netophathite\",\"slothful\",\"Saffron\",\"Left\",\"plague\",\"heir\",\"cables\",\"Har\",\"Iulius\",\"colonel\",\"garment\",\"sign\",\"Catholic\",\"greater\",\"Ethel\",\"yard\",\"lesse\",\"determin\",\"quality\",\"bathing\",\"erst\",\"Audrey\",\"discerning\",\"maids\",\"kindness\",\"when\",\"reduced\",\"led\",\"TALBOT\",\"outset\",\"monsters\",\"Harbor\",\"Market\",\"Pope\",\"scorched\",\"points\",\"knights\",\"apart\",\"irrational\",\"observant\",\"prophetess\",\"foundation\",\"Hanan\",\"flocks\",\"Turning\",\"throne\",\"designed\",\"transition\",\"eatest\",\"southward\",\"treatment\",\"selves\",\"solitary\",\"conscience\",\"Machir\",\"amusements\",\"Watson\",\"wade\",\"brigand\",\"hunt\",\"deluge\",\"forming\",\"direful\",\"patched\",\"lists\",\"dreamer\",\"contains\",\"nobility\",\"governess\",\"interview\",\"victory\",\"drawback\",\"boil\",\"Eidolons\",\"depended\",\"whatever\",\"sustenance\",\"prints\",\"corridor\",\"diverse\",\"inspire\",\"tatters\",\"Gomorrah\",\"divideth\",\"maintaining\",\"unbelieving\",\"85\",\"_The\",\"fetch\",\"ardent\",\"murdered\",\"Till\",\"deviseth\",\"Upon\",\"mirror\",\"helper\",\"triumphal\",\"Frode\",\"disappeared\",\"Yard\",\"offence\",\"honesty\",\"Tolstoy\",\"Angels\",\"china\",\"chorus\",\"battles\",\"occasioned\",\"clumsy\",\"nautical\",\"ceremony\",\"swamps\",\"Friday\",\"shelf\",\"needles\",\"fifties\",\"Azrikam\",\"Lebanon\",\"reject\",\"Lyme\",\"--\\\"'\",\"Suffer\",\"crickets\",\"conclude\",\"poore\",\"tall\",\"Cephas\",\"eunuchs\",\"anarchism\",\"goodly\",\"137\",\"slightest\",\"spun\",\"expected\",\"cup\",\"idly\",\"smoke\",\"persecutions\",\"Sonnes\",\"grumbly\",\"speech\",\"vane\",\"confine\",\"grandmama\",\"windward\",\"hunger\",\"appropriate\",\"fig\",\"Angel\",\"Rebellious\",\"indignity\",\"fashionable\",\"symptoms\",\"publican\",\"Polonius\",\"strode\",\"blocks\",\"principle\",\"blasphemy\",\"Eton\",\"materials\",\"opens\",\"Sheshan\",\"heaved\",\"Azekah\",\"rider\",\"exaggeration\",\"empire\",\"O\",\"bomb\",\"unborn\",\"fisher\",\"neglect\",\"coolly\",\"mankind\",\"projects\",\"vines\",\"revealeth\",\"burden\",\"forcibly\",\"inn\",\"assay\",\"haggard\",\"adventure\",\"blasts\",\"unsought\",\"shadowed\",\"Vineyard\",\"threaten\",\"capitals\",\"include\",\"blessing\",\"fatigue\",\"imaginable\",\"fancying\",\"SHE\",\"thoughtfulness\",\"ministry\",\"stain\",\"harper\",\"cowards\",\"considerably\",\"sense\",\"widow\",\"spoiled\",\"traps\",\"than\",\"menacing\",\"usage\",\"scramble\",\"scared\",\"howl\",\"93\",\"moodily\",\"worsted\",\"Never\",\"signs\",\"dwell\",\"rent\",\"thicket\",\"peacock\",\"Thumb\",\"humbleth\",\"reade\",\"Fancy\",\"confirm\",\"Artaxerxes\",\"lunge\",\"displease\",\"obeying\",\"who\",\"palm\",\"ranging\",\"enquiry\",\"mariners\",\"egg\",\"pains\",\"navel\",\"Eat\",\"Temanite\",\"dizzy\",\"grasped\",\"excites\",\"eagerly\",\"Manchon\",\"interior\",\"nightingale\",\"worshippeth\",\"apartment\",\"mane\",\"arisen\",\"Marianne\",\"whaling\",\"26\",\"tents\",\"pays\",\"own\",\"translated\",\"up\",\"elaborate\",\"Hostesse\",\"meat\",\"excels\",\"Drinke\",\"ardour\",\"Better\",\"hillside\",\"perceived\",\"resent\",\"loses\",\"feigned\",\"caterpiller\",\"enclosing\",\"Reuenge\",\"strove\",\"league\",\"revived\",\"cleared\",\"marbles\",\"75\",\"ensemble\",\"Knightley\",\"defence\",\"Immortal\",\"extent\",\"rescue\",\"avast\",\"nearly\",\"mammy\",\"Amaziah\",\"degrees\",\"happiest\",\"pleases\",\"cloudy\",\"braced\",\"Cox\",\"Mother\",\"schoolmaster\",\"succour\",\"Wash\",\"root\",\"Athens\",\"bringeth\",\"appoint\",\"boat\",\"brow\",\"besieged\",\"problem\",\"reproaching\",\"blossoms\",\"Answer\",\"blooded\",\"addressing\",\"assistance\",\"Matter\",\"Vpon\",\"stirreth\",\"species\",\"belongeth\",\"Bigvai\",\"ointments\",\"cured\",\"leap\",\"attendance\",\"privy\",\"latitudes\",\"Nun\",\"pastoral\",\"adhesiveness\",\"Peor\",\"bronze\",\"Yojo\",\"clefts\",\"immediately\",\"enthusiasts\",\"spiritually\",\"established\",\"apprehensions\",\"numerous\",\"spars\",\"designated\",\"Neriah\",\"diplomacy\",\"Jozadak\",\"graves\",\"saith\",\"allowance\",\"Joseph\",\"did\",\"grievance\",\"substitute\",\"striving\",\"Sleeping\",\"correspondence\",\"Jeshimon\",\"logs\",\"foaming\",\"roam\",\"Plymouth\",\"qualified\",\"unconscious\",\"masculine\",\"helpers\",\"rousing\",\"animals\",\"repute\",\"contained\",\"villa\",\"hastily\",\"begat\",\"raise\",\"dukes\",\"Jephthah\",\"independent\",\"Certainly\",\"sidelong\",\"inflamed\",\"reapers\",\"replied\",\"pierce\",\"later\",\"magnified\",\"Gideon\",\"Devonshire\",\"pastors\",\"advance\",\"natured\",\"Offer\",\"careful\",\"invade\",\"oversight\",\"create\",\"abominable\",\"penetrated\",\"Nebuzaradan\",\"dignity\",\"accompany\",\"Zealand\",\"temperature\",\"youngest\",\"clank\",\"sticks\",\"Towards\",\"valiantly\",\"inns\",\"heartless\",\"commit\",\"mere\",\"intellect\",\"Heare\",\"prove\",\"changes\",\"ruled\",\"walnut\",\"duellists\",\"Driven\",\"neerer\",\"waving\",\"Race\",\"history\",\"torments\",\"sentiments\",\"Laughing\",\"heritage\",\"greatly\",\"wisely\",\"polished\",\"uttering\",\"refinement\",\":--\\\"\",\"literally\",\"towing\",\"Glamis\",\"posted\",\"contending\",\"Maker\",\"forgets\",\"low\",\"confidential\",\"Enquire\",\"Pour\",\"foresight\",\"visitor\",\"Samson\",\"What\",\"managing\",\"bulk\",\"severely\",\"furrows\",\"loss\",\"Macey\",\"Jennings\",\"purse\",\"farmers\",\"Break\",\"owe\",\"awakening\",\"Meanwhile\",\"foil\",\"may\",\"captured\",\"familiarity\",\"dieth\",\"sprung\",\"torrents\",\"examining\",\"helping\",\"enquired\",\"wolves\",\"neede\",\"bushel\",\"Jabeshgilead\",\"contrast\",\"either\",\"answered\",\"immigrants\",\"Elephant\",\"duel\",\"anticipation\",\"Battaile\",\"splendour\",\"Shrewsbury\",\"yoked\",\"...\\\"\",\"valour\",\"House\",\"mourning\",\"spat\",\"alarm\",\"blown\",\"Shimei\",\"reads\",\"Japan\",\"extravagant\",\"Sennacherib\",\"ve\",\"Catastrophism\",\"attire\",\"absolutely\",\"General\",\"figs\",\"grassy\",\"Case\",\"strangely\",\"surpass\",\"loaded\",\"eyebrows\",\"Leaue\",\"hateth\",\"noisy\",\"prospect\",\"attitudes\",\"paying\",\"husky\",\"boards\",\"recognize\",\"groping\",\"elate\",\"gaiety\",\"perilous\",\"practically\",\"wiping\",\"spotted\",\"cliff\",\"taking\",\"merchantmen\",\"survivor\",\"doctrines\",\"Chatterer\",\"Dream\",\"adapted\",\"read\",\"reap\",\"Zoar\",\"bemoan\",\"rudeness\",\"recommended\",\"expansive\",\"47\",\"Enan\",\"Abihail\",\"coachman\",\"anticipated\",\"hips\",\"shame\",\"drawled\",\"Ohio\",\"pause\",\"valuable\",\"braver\",\"remedy\",\"warm\",\"administered\",\"SPERM\",\"cab\",\"Darkness\",\"startlingly\",\"faculties\",\"lessening\",\"gag\",\"explanations\",\"hollow\",\"shrubberies\",\"heart\",\"mystical\",\"slimy\",\"Joktan\",\"want\",\"waited\",\"unmistakable\",\"ain\",\"snapping\",\"extra\",\"lawful\",\"wanted\",\"disapprove\",\"perverteth\",\"princess\",\"corporeal\",\"embalmed\",\"Euroclydon\",\"dragging\",\"restricted\",\"servitude\",\"winepress\",\"overseer\",\"fortified\",\"Government\",\"Health\",\"walking\",\"Hananiah\",\"progress\",\"smart\",\"folded\",\"Monkey\",\"disdained\",\"Hinnom\",\"destined\",\"illness\",\"aches\",\"Broad\",\"wits\",\"reported\",\"Mercy\",\"pipe\",\"leagues\",\"detect\",\"wormwood\",\"richest\",\"hides\",\"private\",\"vivid\",\"kindreds\",\"fists\",\"minded\",\"lou\",\"Pagan\",\"aslant\",\"ugly\",\"stillness\",\"Gedor\",\"refrain\",\"privileges\",\"my\",\"Satan\",\"Israel\",\"violets\",\"pound\",\"haul\",\"misfortunes\",\"withall\",\"restored\",\"intensity\",\"wary\",\"unfolded\",\"Australia\",\"foote\",\"glove\",\"lane\",\"dog\",\"Squirrel\",\"flags\",\"Beside\",\"River\",\"proclaimed\",\"raptures\",\"lofty\",\"spermaceti\",\"roof\",\"buns\",\"by\",\"political\",\"devilish\",\"punish\",\"Hosea\",\"smoked\",\"wrest\",\"noted\",\"Together\",\"Spaniard\",\"Jerusalem\",\"bounteous\",\"lonesome\",\"handsomer\",\"moue\",\"Osricke\",\"Cumberland\",\"End\",\"pomegranates\",\"nodding\",\"maintained\",\"IX\",\"pertain\",\"Uzziel\",\"forsake\",\"astonish\",\"Wandering\",\"sided\",\"scruples\",\"cries\",\"lobster\",\"eternal\",\"snuffers\",\"contrasting\",\"renowned\",\"annoyed\",\"Read\",\"warmest\",\"precious\",\"images\",\"Traitors\",\"damage\",\"descend\",\"unctuous\",\"covenant\",\"seventeenth\",\"negroes\",\"contrivances\",\"Hanoch\",\"Ebedmelech\",\"publicans\",\"touched\",\"scorching\",\"gunpowder\",\"leanness\",\"dropt\",\"Cherubick\",\"wicked\",\"careth\",\"worthless\",\"Enscombe\",\"sinner\",\"measuring\",\"first\",\"transformation\",\"prettiest\",\"lavers\",\"almonds\",\"facade\",\"fastened\",\"classification\",\"threading\",\"measure\",\"exhorting\",\"ll\",\"leysure\",\"cellars\",\"laughs\",\"weake\",\"plunged\",\"Dunstable\",\"apiece\",\"asks\",\"thanksgiving\",\"Its\",\"view\",\"lee\",\"suffice\",\"solution\",\"acquitted\",\"worse\",\"cheery\",\"responsive\",\"resuming\",\"Elam\",\"raspberries\",\"alienated\",\"commandments\",\"whatsoever\",\"temper\",\"spouts\",\"wringing\",\"deliberately\",\"actually\",\"medicines\",\"eras\",\"liberality\",\"June\",\"hearing\",\"sleeper\",\"listened\",\"Lower\",\"Ten\",\"inspiration\",\"sharks\",\"fibre\",\"responding\",\"aspirations\",\"bones\",\"Baptist\",\"Mink\",\"sojourned\",\"Low\",\"List\",\"collar\",\"welcomed\",\"ewe\",\"Gibeonites\",\"cats\",\"stolidity\",\"pipes\",\"rattle\",\"blinds\",\"lets\",\"themselues\",\"foreign\",\"prospects\",\"reigned\",\"Ere\",\"Found\",\"gird\",\"paling\",\"quarry\",\"Ammon\",\"princes\",\"pepper\",\"infused\",\"grow\",\"sticking\",\"bombs\",\"sooth\",\"Abishag\",\"Jebusite\",\"spoilers\",\"Pathros\",\"Body\",\"ungracious\",\"leathern\",\"Achilles\",\"poisonous\",\"Enderby\",\"lamented\",\"plumage\",\"Shiloh\",\"forgetfulness\",\"popularity\",\"experiences\",\"incessant\",\"Choice\",\"voyce\",\"reverie\",\"Elliots\",\"Queequeg\",\"prayeth\",\"doors\",\"Also\",\"whichever\",\"sitting\",\"none\",\"wrenching\",\"towns\",\"nevertheless\",\"deaths\",\"Crofts\",\"bordered\",\"entire\",\"froward\",\"beneath\",\"necessarily\",\"strikes\",\"friendliness\",\"duped\",\"puppy\",\"red\",\"clerks\",\"visitors\",\"wherefore\",\"delirium\",\"mortification\",\"Elliot\",\"pricking\",\"charade\",\"puzzling\",\"cluster\",\"tenth\",\"cases\",\"having\",\"keeps\",\"tulip\",\"proclaim\",\"rarely\",\"commissioned\",\"variation\",\"triangle\",\"Lead\",\"Pedaiah\",\"Grove\",\"weakened\",\"Ramothgilead\",\"caring\",\"fury\",\"ambush\",\"bakers\",\"Horses\",\"betimes\",\"redemption\",\"concert\",\"worm\",\"Macd\",\"Lucifer\",\"sinners\",\"obliquely\",\"arranged\",\"calculate\",\"which\",\"descended\",\"dews\",\"dreamers\",\"fringe\",\"names\",\"gestures\",\"wailing\",\"newes\",\"devoureth\",\"great\",\"Perizzite\",\"Gilgal\",\"candid\",\"wished\",\"caresses\",\"deserts\",\"Air\",\"bands\",\"oar\",\"danced\",\"estate\",\"sometimes\",\"Judah\",\"lightly\",\"tune\",\"manners\",\"article\",\"galleries\",\"Owle\",\"Hail\",\"hunter\",\"dimly\",\"Moabites\",\"reading\",\"peculiar\",\"humbly\",\"mistook\",\"143\",\"fleeting\",\"sloping\",\"ninety\",\"withstand\",\"compass\",\"96\",\"Barnardo\",\"row\",\"sleeping\",\"coils\",\"intend\",\"wading\",\"SHIP\",\"weare\",\"bosoms\",\"pivot\",\"environs\",\"dresses\",\"Family\",\"sigh\",\"Shunammite\",\"Coon\",\"mansion\",\"Smite\",\"handsomely\",\"murmuring\",\"thank\",\"Mamma\",\"quiet\",\"aimed\",\"singular\",\"warned\",\"endureth\",\"144\",\"safe\",\"stall\",\"funny\",\"Larkins\",\"excursion\",\"squeeze\",\"guides\",\"Thief\",\"pantaloons\",\"108\",\"Haran\",\"shed\",\"Christopher\",\"rash\",\"physicians\",\"Raphael\",\"fairies\",\"asses\",\"creating\",\"subtilty\",\"needeth\",\"Ophe\",\"mote\",\"remarkable\",\"linger\",\"finish\",\"deceitfully\",\"dispense\",\"cucumbers\",\"consisted\",\"contemplating\",\"phantoms\",\"pride\",\"thine\",\"lamentations\",\"hunting\",\"shark\",\"intelligible\",\"sabbath\",\"ere\",\"loath\",\"cracking\",\"breakwater\",\"whosoever\",\"way\",\"executing\",\"Gozan\",\"mine\",\"Drugger\",\"Commons\",\"aspect\",\"Deuteronomy\",\"perturbation\",\"researches\",\"common\",\"stupidity\",\"borderland\",\"Hindoo\",\"duties\",\"crouching\",\"waiter\",\"convincing\",\"north\",\"nook\",\"northward\",\"shut\",\"plotting\",\"stave\",\"eminence\",\"Instantly\",\"endlessly\",\"overbearing\",\"testament\",\"rode\",\"seemeth\",\"rifles\",\"Huram\",\"nights\",\"slopes\",\"flax\",\"Dying\",\"testify\",\"Kanadian\",\"Bill\",\"serene\",\"dusk\",\"stating\",\"rememberest\",\"commendation\",\"reeled\",\"drinks\",\"Starting\",\"whiles\",\"highth\",\"marriages\",\"appointments\",\"hen\",\"feeder\",\"Dark\",\"drifted\",\"Shuhite\",\"Landlord\",\"rake\",\"aright\",\"strangest\",\"feele\",\"Uzza\",\"Hall\",\"transfer\",\"bit\",\"KNOW\",\"Zerah\",\"Hang\",\"riddles\",\"hauled\",\"Gentlemen\",\"Anyhow\",\"interested\",\"threatening\",\"tilted\",\"picture\",\"removed\",\"heaviest\",\"expatiate\",\"declaration\",\"district\",\"baptized\",\"Andes\",\"vigil\",\"Birth\",\"Curse\",\"counsellor\",\"poison\",\"pieces\",\"willing\",\"compassed\",\"clutched\",\"Box\",\"tattooing\",\"send\",\"apathy\",\"Approaching\",\"Fanny\",\"sleep\",\"ease\",\"fleece\",\"doubly\",\"preference\",\"darling\",\"staves\",\"Delight\",\"Tree\",\"air\",\"attract\",\"pasture\",\"songs\",\"feasting\",\"eares\",\"Ever\",\"astern\",\"jelly\",\"Starre\",\"windlass\",\"deepening\",\"denying\",\"Muscari\",\"celestial\",\"Seek\",\"skill\",\"wax\",\"represent\",\"eh\",\"departeth\",\"attractions\",\"hazel\",\"cannon\",\"Add\",\"Rejoice\",\"godliness\",\"separation\",\"craven\",\"shifted\",\"propriety\",\"_he_\",\"repented\",\"imprudent\",\"dock\",\"relation\",\"excusable\",\"inform\",\"earnestness\",\"Proud\",\"deemed\",\"reprobate\",\"seclusion\",\"suit\",\"covert\",\"balk\",\"Miss\",\"tallying\",\"puzzle\",\"keepeth\",\"virgin\",\"keel\",\"Menahem\",\"hairs\",\"Rehabiah\",\"feeble\",\"girdles\",\"grasp\",\"Ligarius\",\"graven\",\"elude\",\"provide\",\"mortified\",\"elm\",\"inscrutable\",\"drave\",\"gripped\",\"Shelemiah\",\"deferred\",\"Ahikam\",\"vertebrae\",\"recorded\",\"Truly\",\"grease\",\"declines\",\"fourteen\",\"won\",\"incline\",\"Old\",\"reception\",\"Spencer\",\"Beriah\",\"glimpse\",\"pronounce\",\"sarcastically\",\"seeing\",\"unsearchable\",\"jerking\",\"fallen\",\"peerless\",\"hieroglyphics\",\"treating\",\"quickness\",\"pour\",\"buyer\",\"exception\",\"fight\",\"Police\",\"partiality\",\"oliveyards\",\"unperceived\",\"th\",\"factory\",\"desirable\",\"vp\",\"eludes\",\"wheels\",\"Victor\",\"Jupiter\",\"watchmen\",\"flushed\",\"exalt\",\"Cabaco\",\"28\",\"thenceforth\",\"readily\",\"sufficient\",\"recurred\",\"she\",\"backed\",\"origin\",\"expedient\",\"promenade\",\"theatre\",\"policy\",\"dominions\",\"lank\",\"singing\",\"archangel\",\"veteran\",\"chaise\",\"handsome\",\"specialist\",\"scores\",\"convivial\",\"Abbey\",\"insulted\",\"onely\",\"trophy\",\"padded\",\"device\",\"melted\",\"madest\",\"All\",\"Owen\",\"Grateful\",\"perpetual\",\"jerked\",\"remember\",\"former\",\"grating\",\"mimic\",\"crack\",\"obscure\",\"whispering\",\"organs\",\"refusal\",\"epics\",\"hawk\",\"maybe\",\"radiance\",\"nineteenth\",\"Ahimaaz\",\"stern\",\"catching\",\"respective\",\"awaiting\",\"guinea\",\"Pooh\",\"hardship\",\"Lane\",\"vegetables\",\"roar\",\"loathsome\",\"compound\",\"Cry\",\"fiftieth\",\"mayest\",\"ventured\",\"drunkenness\",\"needless\",\"consequently\",\"looke\",\"vouchsafe\",\"inclining\",\"around\",\"willingly\",\"scaffold\",\"_our_\",\"takest\",\"water\",\"hangings\",\"placidly\",\"tattooed\",\"alighted\",\"cutter\",\"sallow\",\"combining\",\"29\",\"widely\",\"for\",\"unused\",\"discoloured\",\"twos\",\"conspicuous\",\"reel\",\"York\",\"Sisters\",\"carol\",\"mightier\",\"ambiguous\",\"flavor\",\"severe\",\"feared\",\"sincerely\",\"eunuch\",\"curses\",\"vnnaturall\",\"Beetle\",\"redeeming\",\"tumble\",\"triumph\",\"exhortation\",\"augment\",\"morter\",\"Amalekites\",\"perceiving\",\"human\",\"Asaph\",\"Jehoiachin\",\"baskets\",\"barrel\",\"Laadan\",\"uncles\",\"masonry\",\"hallow\",\"Restore\",\"peril\",\"cheeks\",\"fable\",\"nations\",\"equity\",\"Ambition\",\"Linnaeus\",\"regions\",\"repenteth\",\"earnestly\",\"calling\",\"spirited\",\"pleasantness\",\"kicking\",\"converted\",\"plains\",\"stablished\",\"blowing\",\"know\",\"gallop\",\"manifestation\",\"Sorrow\",\"ashes\",\"AT\",\"refuge\",\"Lakeman\",\"enemy\",\"cushions\",\"yielded\",\"kissed\",\"FIRST\",\"yours\",\"Cheshire\",\"logical\",\"Salem\",\"century\",\"stand\",\"sew\",\"shineth\",\"convenient\",\"Venetian\",\"25\",\"nail\",\"formed\",\"130\",\"Stage\",\"horseman\",\"Walking\",\"Ban\",\"Azmaveth\",\"placed\",\"huzzaing\",\"Mary\",\"Wheel\",\"Flora\",\"lowering\",\"matrimony\",\"reed\",\"Zippor\",\"firstling\",\"pond\",\"perished\",\"Hereby\",\"come\",\"frolic\",\"Nethaneel\",\"Waiter\",\"discovering\",\"Job\",\"vivacity\",\"Hawkins\",\"martial\",\"certainty\",\"Heauens\",\"beads\",\"wilderness\",\"scalding\",\"Africa\",\"stifled\",\"leaden\",\"worth\",\";)\",\"bullocks\",\"returned\",\"Niagara\",\"airs\",\"calmly\",\"anew\",\"Ask\",\"exploded\",\"Free\",\"incomparable\",\"lieth\",\"copy\",\"surprising\",\"clung\",\"amusing\",\"fasted\",\"Chenaanah\",\"forthwith\",\"99\",\"railroads\",\"spear\",\"Emperors\",\"squeezed\",\"ambassador\",\"prosper\",\"amain\",\"Fishermen\",\"roaring\",\"kennel\",\"HE\",\"harden\",\"outlived\",\"beholds\",\"deprive\",\"gentle\",\"legs\",\"struggles\",\"moral\",\"Mephibosheth\",\"Morton\",\"trading\",\"kinsmen\",\"gaze\",\"depth\",\"upwards\",\"incessantly\",\"prating\",\"Haggai\",\"realities\",\"cage\",\"hammock\",\"expired\",\"abound\",\"matches\",\"chapters\",\"dismall\",\"humbled\",\"extremity\",\"Achaia\",\"inferiour\",\"piles\",\"Howbeit\",\"terrible\",\"internal\",\"use\",\"lordship\",\"--'\",\"fiercely\",\"strange\",\"foal\",\"joyously\",\"attacked\",\"sorcerers\",\"newly\",\"Thee\",\"loved\",\"hospitality\",\"OCTAVO\",\"unattended\",\"surety\",\"remaines\",\"Nantucketers\",\"cared\",\"morsel\",\"Michal\",\"orchard\",\"amounted\",\"huts\",\"knaue\",\"Joel\",\"dresser\",\"Action\",\"Noe\",\"cottages\",\"Shammah\",\"bog\",\"barn\",\"issue\",\"aloft\",\"dissent\",\"frank\",\"stranded\",\"Legions\",\"collecting\",\"twentieth\",\"obviously\",\"stockings\",\"fishing\",\"necklace\",\"buttons\",\"thereon\",\"wiped\",\"Eve\",\"congenial\",\"Child\",\"exploit\",\"canoes\",\"saints\",\"satisfying\",\"shock\",\"wheat\",\"gable\",\"ours\",\"livelihood\",\"summers\",\"mules\",\"insolently\",\"Raamah\",\"betrayed\",\"countenances\",\"m\",\"bard\",\"ejaculated\",\"wharf\",\"banish\",\"soar\",\"transgressions\",\"stedfast\",\"lightnings\",\"pork\",\"expect\",\"lose\",\"Tychicus\",\"39\",\"rustic\",\"cloven\",\"say\",\"calves\",\"commandment\",\"trying\",\"watered\",\"interminable\",\"arrange\",\"Timotheus\",\"Possum\",\"treasures\",\"enrich\",\"holdest\",\"beauteous\",\"Elim\",\"BEAR\",\"pierced\",\"performed\",\"Fishery\",\"imagined\",\"rightly\",\"shittim\",\"transom\",\"unbroken\",\"Methinks\",\"Mountains\",\"twelue\",\"Full\",\"compliance\",\"conqueror\",\"sap\",\"darker\",\"Daggoo\",\"boatmen\",\"JOHN\",\"shaven\",\"settle\",\"joyous\",\"prouder\",\"outs\",\"corpses\",\"Lizard\",\"arched\",\"whims\",\"WHALING\",\"Saint\",\"See\",\"asylum\",\"peasant\",\"spring\",\"library\",\"practicable\",\"fertile\",\"presumed\",\"impart\",\"school\",\"seuerall\",\"Place\",\"attachments\",\"overcome\",\"loosen\",\"mistake\",\"outgoings\",\"Bond\",\"Asahel\",\"librarian\",\"saddle\",\"breasts\",\"endure\",\"apparently\",\"habitations\",\"saveth\",\"bright\",\"contempt\",\"Harry\",\"originally\",\"dishes\",\"merely\",\"Creature\",\"seeds\",\"seeks\",\"puffing\",\"Strange\",\"IT\",\"Folio\",\"appearing\",\"Sammy\",\"improbable\",\"synagogue\",\"pulses\",\"LONG\",\"intending\",\"existing\",\"Port\",\"naked\",\"Because\",\"_Daily\",\"fillets\",\"haunt\",\"swear\",\"animating\",\"repose\",\"comest\",\"activity\",\"desk\",\"trampled\",\"pitched\",\"lice\",\"hazard\",\"ought\",\"affectionately\",\"boarding\",\"fever\",\"vowes\",\"stamping\",\"Pacific\",\"beg\",\"being\",\"joint\",\"vein\",\"_that_\",\"Vnto\",\"Akkub\",\"waking\",\"rueful\",\"vapours\",\"Star\",\"Arch\",\"dupe\",\"rend\",\"servants\",\"false\",\"landscapes\",\"cheerful\",\"chamberlains\",\"luckily\",\"ended\",\"Small\",\"no\",\"Rio\",\"ankles\",\"monotonous\",\"flinging\",\"paradox\",\"Children\",\"chastised\",\"announcement\",\"displayed\",\"SAILOR\",\"gin\",\"simpleton\",\"Peace\",\"Appetite\",\"India\",\"town\",\"Ornan\",\"fears\",\"Husbands\",\"flow\",\"hasten\",\"shunned\",\"implicit\",\"teaching\",\"Often\",\"flung\",\"lies\",\"absolute\",\"gout\",\"bloody\",\"gangway\",\"offended\",\"Cross\",\"circumcise\",\"influences\",\"tomahawk\",\"maker\",\"32\",\"resident\",\"ancestors\",\"Achbor\",\"Work\",\"regarded\",\"Merari\",\"noise\",\"sting\",\"singers\",\"leapt\",\"breath\",\"reconciliation\",\"suddenness\",\"knit\",\";'\",\"Haman\",\"sentence\",\"quarrelled\",\"absence\",\"sand\",\"channels\",\"mortality\",\"warmer\",\"erred\",\"drugg\",\"87\",\"godmother\",\"'\",\"garret\",\"superior\",\"146\",\"Shot\",\"Ammiel\",\"enterprise\",\"anywhere\",\"Much\",\"vineyards\",\"contemptible\",\"nut\",\"122\",\"Age\",\"groan\",\"Grecian\",\"seiz\",\"dine\",\"swings\",\"solely\",\"gardener\",\"Face\",\"prevailing\",\"makers\",\"dwelling\",\"fat\",\"truest\",\"Adversary\",\"ringstraked\",\"fainted\",\"Seale\",\"loveliness\",\"stalk\",\"quest\",\"beholdest\",\"enquiring\",\"price\",\"ne\",\"topics\",\"Back\",\"number\",\"Comforter\",\"ha\",\"savoury\",\"outward\",\"Cyprus\",\"expressly\",\"deliberation\",\"Caesarea\",\"Corinthians\",\"prince\",\"material\",\"contrive\",\"Hew\",\"passes\",\"rafters\",\"Michaelmas\",\"Salah\",\"boot\",\"Zadok\",\"madhouse\",\"cooks\",\"oppressors\",\"darken\",\"frighten\",\"lye\",\"unhappiness\",\"family\",\"hearken\",\"lands\",\"disturbance\",\"Thine\",\"composed\",\"countenance\",\"concealed\",\"lapse\",\"readers\",\"apprehend\",\"Flauius\",\"moist\",\"Red\",\"compromise\",\"Hirsch\",\"Kareah\",\"sinister\",\"void\",\"essays\",\"preluding\",\"Bru\",\"beauty\",\"laps\",\"Montano\",\"Creation\",\"lunatic\",\"chat\",\"reality\",\"heightened\",\"invariably\",\"meals\",\"provided\",\"detain\",\"Gibbethon\",\"WHAT\",\"sparkled\",\"profitable\",\"veterans\",\"affectionate\",\"enthusiasm\",\"Brian\",\"fascinating\",\"adamantine\",\"hay\",\"Turnbull\",\"uncommon\",\"bowsman\",\"uses\",\"feeding\",\"oppressor\",\"Whaling\",\"assemblies\",\"pile\",\"Elector\",\"visited\",\"agents\",\"openness\",\"Chimney\",\"whirr\",\"sweep\",\"Adieu\",\"Phinehas\",\"civilizations\",\"Picture\",\"shoes\",\"gipsies\",\"despair\",\"clasped\",\"Ahiezer\",\"Moloch\",\"gong\",\"supported\",\"eidolon\",\"buzzing\",\"Crab\",\"deare\",\"Shall\",\"gleams\",\"sports\",\"receive\",\"indefatigable\",\"departure\",\"depressing\",\"stealth\",\"stooping\",\"commune\",\"Aholibah\",\"bed\",\"Galilaeans\",\"Tuesday\",\"tutor\",\"through\",\"vanish\",\"Coxes\",\"Yorkshire\",\"Lyon\",\"below\",\"Listen\",\"incredulity\",\"needy\",\"ate\",\"startled\",\"Allah\",\"intense\",\"arguing\",\"Shelah\",\"modes\",\"exiled\",\"lanes\",\"dusky\",\"consumption\",\"Zacharias\",\"Persians\",\"owes\",\"gash\",\"deeds\",\"sheaves\",\"exceed\",\"jacket\",\"sanctuaries\",\"evince\",\"fourscore\",\"vulgarity\",\"preceded\",\"Winde\",\"emotions\",\"concealment\",\"foliage\",\"Noph\",\"full\",\"eidolons\",\"After\",\"conceived\",\"besides\",\"becometh\",\"Dixon\",\"oblation\",\"generation\",\"isolation\",\"tasting\",\"seating\",\"34\",\"conceive\",\"ee\",\"distressed\",\"bridge\",\"35\",\"Knocke\",\"pageants\",\"mightest\",\"palaces\",\"box\",\"lawless\",\"knewest\",\"mend\",\"fourth\",\"vilde\",\"Jonadab\",\"civilized\",\"double\",\"profits\",\"Horonaim\",\"vessel\",\"enthusiastic\",\"poets\",\"Murth\",\"flute\",\"ram\",\"martyrs\",\"too\",\"Dominations\",\"Highest\",\"toes\",\"killing\",\"blocked\",\"Sussex\",\"signals\",\"rout\",\"succeeding\",\"dripping\",\"Fortune\",\"Colours\",\"outlined\",\"comes\",\"moisture\",\"choice\",\"census\",\"scale\",\"potent\",\"Can\",\"amazed\",\"Musicke\",\"gathering\",\"115\",\"recount\",\"Brahma\",\"Office\"],\"x\":{\"__ndarray__\":\"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\",\"dtype\":\"float32\",\"shape\":[5000]},\"y\":{\"__ndarray__\":\"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\",\"dtype\":\"float32\",\"shape\":[5000]}},\"selected\":{\"id\":\"de718398-f827-4206-8796-4472f75862ff\",\"type\":\"Selection\"},\"selection_policy\":{\"id\":\"afb43642-cabe-42c2-81b5-92365cd6c77b\",\"type\":\"UnionRenderers\"}},\"id\":\"4556f9ca-a98d-4446-b7a5-e44eabc6fbc0\",\"type\":\"ColumnDataSource\"},{\"attributes\":{},\"id\":\"afb43642-cabe-42c2-81b5-92365cd6c77b\",\"type\":\"UnionRenderers\"},{\"attributes\":{\"formatter\":{\"id\":\"c758a26a-04bf-4432-b6f7-a6544cf47414\",\"type\":\"BasicTickFormatter\"},\"plot\":{\"id\":\"2ec5a81f-a7f6-4d1f-be8a-8adc3dfd3729\",\"subtype\":\"Figure\",\"type\":\"Plot\"},\"ticker\":{\"id\":\"31803c72-0d01-4b1d-957b-f7a835bdf392\",\"type\":\"BasicTicker\"}},\"id\":\"d371ff21-a9d7-4b56-b7e6-50013c34301e\",\"type\":\"LinearAxis\"},{\"attributes\":{},\"id\":\"c758a26a-04bf-4432-b6f7-a6544cf47414\",\"type\":\"BasicTickFormatter\"},{\"attributes\":{},\"id\":\"31803c72-0d01-4b1d-957b-f7a835bdf392\",\"type\":\"BasicTicker\"},{\"attributes\":{\"text_alpha\":{\"value\":0.1},\"text_color\":{\"value\":\"black\"},\"x\":{\"field\":\"x\"},\"y\":{\"field\":\"y\"}},\"id\":\"00e85d79-2430-4d7a-8e77-4ff0636889dc\",\"type\":\"Text\"},{\"attributes\":{\"plot\":{\"id\":\"2ec5a81f-a7f6-4d1f-be8a-8adc3dfd3729\",\"subtype\":\"Figure\",\"type\":\"Plot\"},\"ticker\":{\"id\":\"31803c72-0d01-4b1d-957b-f7a835bdf392\",\"type\":\"BasicTicker\"}},\"id\":\"0ba1cf71-bff1-4b96-a8be-675b294c9a62\",\"type\":\"Grid\"},{\"attributes\":{\"text_color\":{\"value\":\"black\"},\"x\":{\"field\":\"x\"},\"y\":{\"field\":\"y\"}},\"id\":\"c7aefdc8-3f6b-49ea-ba75-6f982618204c\",\"type\":\"Text\"},{\"attributes\":{\"formatter\":{\"id\":\"696a4745-786c-466e-90d4-a89b2083986e\",\"type\":\"BasicTickFormatter\"},\"plot\":{\"id\":\"2ec5a81f-a7f6-4d1f-be8a-8adc3dfd3729\",\"subtype\":\"Figure\",\"type\":\"Plot\"},\"ticker\":{\"id\":\"93b12a6c-ec69-42ec-a4aa-8604ecde8dc8\",\"type\":\"BasicTicker\"}},\"id\":\"5967094d-a490-4b4c-9207-6dbf6b62b6eb\",\"type\":\"LinearAxis\"},{\"attributes\":{},\"id\":\"696a4745-786c-466e-90d4-a89b2083986e\",\"type\":\"BasicTickFormatter\"},{\"attributes\":{\"callback\":null},\"id\":\"c1b356fd-8aed-410e-8907-6747ce5c479c\",\"type\":\"DataRange1d\"},{\"attributes\":{},\"id\":\"93b12a6c-ec69-42ec-a4aa-8604ecde8dc8\",\"type\":\"BasicTicker\"},{\"attributes\":{\"data_source\":{\"id\":\"4556f9ca-a98d-4446-b7a5-e44eabc6fbc0\",\"type\":\"ColumnDataSource\"},\"glyph\":{\"id\":\"c7aefdc8-3f6b-49ea-ba75-6f982618204c\",\"type\":\"Text\"},\"hover_glyph\":null,\"muted_glyph\":null,\"nonselection_glyph\":{\"id\":\"00e85d79-2430-4d7a-8e77-4ff0636889dc\",\"type\":\"Text\"},\"selection_glyph\":null,\"view\":{\"id\":\"1e293548-a160-4890-af7b-c4fcc4ada4e3\",\"type\":\"CDSView\"}},\"id\":\"8379668e-8795-463b-bddc-97dc97624b0c\",\"type\":\"GlyphRenderer\"},{\"attributes\":{\"dimension\":1,\"plot\":{\"id\":\"2ec5a81f-a7f6-4d1f-be8a-8adc3dfd3729\",\"subtype\":\"Figure\",\"type\":\"Plot\"},\"ticker\":{\"id\":\"93b12a6c-ec69-42ec-a4aa-8604ecde8dc8\",\"type\":\"BasicTicker\"}},\"id\":\"0d54dfb8-60fe-4f5d-82e6-5fe705c5d817\",\"type\":\"Grid\"},{\"attributes\":{\"source\":{\"id\":\"4556f9ca-a98d-4446-b7a5-e44eabc6fbc0\",\"type\":\"ColumnDataSource\"}},\"id\":\"1e293548-a160-4890-af7b-c4fcc4ada4e3\",\"type\":\"CDSView\"},{\"attributes\":{\"bottom_units\":\"screen\",\"fill_alpha\":{\"value\":0.5},\"fill_color\":{\"value\":\"lightgrey\"},\"left_units\":\"screen\",\"level\":\"overlay\",\"line_alpha\":{\"value\":1.0},\"line_color\":{\"value\":\"black\"},\"line_dash\":[4,4],\"line_width\":{\"value\":2},\"plot\":null,\"render_mode\":\"css\",\"right_units\":\"screen\",\"top_units\":\"screen\"},\"id\":\"8ef1ebbf-fa84-413d-bd43-3d4582f34c86\",\"type\":\"BoxAnnotation\"},{\"attributes\":{\"below\":[{\"id\":\"d371ff21-a9d7-4b56-b7e6-50013c34301e\",\"type\":\"LinearAxis\"}],\"left\":[{\"id\":\"5967094d-a490-4b4c-9207-6dbf6b62b6eb\",\"type\":\"LinearAxis\"}],\"plot_height\":800,\"plot_width\":800,\"renderers\":[{\"id\":\"d371ff21-a9d7-4b56-b7e6-50013c34301e\",\"type\":\"LinearAxis\"},{\"id\":\"0ba1cf71-bff1-4b96-a8be-675b294c9a62\",\"type\":\"Grid\"},{\"id\":\"5967094d-a490-4b4c-9207-6dbf6b62b6eb\",\"type\":\"LinearAxis\"},{\"id\":\"0d54dfb8-60fe-4f5d-82e6-5fe705c5d817\",\"type\":\"Grid\"},{\"id\":\"8ef1ebbf-fa84-413d-bd43-3d4582f34c86\",\"type\":\"BoxAnnotation\"},{\"id\":\"8379668e-8795-463b-bddc-97dc97624b0c\",\"type\":\"GlyphRenderer\"}],\"title\":{\"id\":\"b155fed0-37a5-4837-805a-1e6a21d60073\",\"type\":\"Title\"},\"toolbar\":{\"id\":\"274b5ed1-3a4d-4e75-81a0-4a7631a54151\",\"type\":\"Toolbar\"},\"x_range\":{\"id\":\"c1b356fd-8aed-410e-8907-6747ce5c479c\",\"type\":\"DataRange1d\"},\"x_scale\":{\"id\":\"9156982d-1415-4e1e-9c92-355e1a2718b9\",\"type\":\"LinearScale\"},\"y_range\":{\"id\":\"23cf7106-b6e6-43ce-b188-e81dca1b11cd\",\"type\":\"DataRange1d\"},\"y_scale\":{\"id\":\"2ac04d4a-3c3a-44d7-a47b-7f2c85a20782\",\"type\":\"LinearScale\"}},\"id\":\"2ec5a81f-a7f6-4d1f-be8a-8adc3dfd3729\",\"subtype\":\"Figure\",\"type\":\"Plot\"},{\"attributes\":{},\"id\":\"0eae092e-f3b2-485c-9631-58efd4cee479\",\"type\":\"PanTool\"},{\"attributes\":{\"plot\":null,\"text\":\"\"},\"id\":\"b155fed0-37a5-4837-805a-1e6a21d60073\",\"type\":\"Title\"},{\"attributes\":{},\"id\":\"9b47cd7d-a4b6-4dfb-922b-eaeef56d30b3\",\"type\":\"WheelZoomTool\"},{\"attributes\":{\"active_drag\":\"auto\",\"active_inspect\":\"auto\",\"active_scroll\":\"auto\",\"active_tap\":\"auto\",\"tools\":[{\"id\":\"0eae092e-f3b2-485c-9631-58efd4cee479\",\"type\":\"PanTool\"},{\"id\":\"9b47cd7d-a4b6-4dfb-922b-eaeef56d30b3\",\"type\":\"WheelZoomTool\"},{\"id\":\"5b0f120c-3445-40b3-b466-33f29a1186c4\",\"type\":\"BoxZoomTool\"},{\"id\":\"4bdd05ae-6dc7-46ce-b794-59de44d75f05\",\"type\":\"SaveTool\"},{\"id\":\"5912c54e-eb80-432e-a747-af063c1a13f4\",\"type\":\"ResetTool\"},{\"id\":\"9f769553-188c-4095-a714-20cfdf8b9e38\",\"type\":\"HelpTool\"}]},\"id\":\"274b5ed1-3a4d-4e75-81a0-4a7631a54151\",\"type\":\"Toolbar\"},{\"attributes\":{\"overlay\":{\"id\":\"8ef1ebbf-fa84-413d-bd43-3d4582f34c86\",\"type\":\"BoxAnnotation\"}},\"id\":\"5b0f120c-3445-40b3-b466-33f29a1186c4\",\"type\":\"BoxZoomTool\"}],\"root_ids\":[\"2ec5a81f-a7f6-4d1f-be8a-8adc3dfd3729\"]},\"title\":\"Bokeh Application\",\"version\":\"0.12.16\"}};\n",
       "  var render_items = [{\"docid\":\"1148d157-2d1e-45e5-a061-54412cd825e0\",\"elementid\":\"f737780b-c13b-4dd3-8ba8-ea4fa0bb34ba\",\"modelid\":\"2ec5a81f-a7f6-4d1f-be8a-8adc3dfd3729\"}];\n",
       "  root.Bokeh.embed.embed_items_notebook(docs_json, render_items);\n",
       "\n",
       "  }\n",
       "  if (root.Bokeh !== undefined) {\n",
       "    embed_document(root);\n",
       "  } else {\n",
       "    var attempts = 0;\n",
       "    var timer = setInterval(function(root) {\n",
       "      if (root.Bokeh !== undefined) {\n",
       "        embed_document(root);\n",
       "        clearInterval(timer);\n",
       "      }\n",
       "      attempts++;\n",
       "      if (attempts > 100) {\n",
       "        console.log(\"Bokeh: ERROR: Unable to run BokehJS code because BokehJS library is missing\")\n",
       "        clearInterval(timer);\n",
       "      }\n",
       "    }, 10, root)\n",
       "  }\n",
       "})(window);"
      ],
      "application/vnd.bokehjs_exec.v0+json": ""
     },
     "metadata": {
      "application/vnd.bokehjs_exec.v0+json": {
       "id": "2ec5a81f-a7f6-4d1f-be8a-8adc3dfd3729"
      }
     },
     "output_type": "display_data"
    }
   ],
   "source": [
    "show(p)"
   ]
  },
  {
   "cell_type": "code",
   "execution_count": null,
   "metadata": {},
   "outputs": [],
   "source": []
  }
 ],
 "metadata": {
  "kernelspec": {
   "display_name": "Python 3",
   "language": "python",
   "name": "python3"
  },
  "language_info": {
   "codemirror_mode": {
    "name": "ipython",
    "version": 3
   },
   "file_extension": ".py",
   "mimetype": "text/x-python",
   "name": "python",
   "nbconvert_exporter": "python",
   "pygments_lexer": "ipython3",
   "version": "3.6.5"
  }
 },
 "nbformat": 4,
 "nbformat_minor": 2
}
