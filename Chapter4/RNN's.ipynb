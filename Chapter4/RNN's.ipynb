{
 "cells": [
  {
   "cell_type": "markdown",
   "metadata": {},
   "source": [
    "## Topics that we'll be covering are:\n",
    "1. Essential Theory of RNN's\n",
    "2. RNN's in Practice\n",
    "3. Essential theory of LSTM's and GRU's\n",
    "4. LSTM and GRU's in Practice"
   ]
  },
  {
   "cell_type": "markdown",
   "metadata": {},
   "source": [
    "## RNN's in Practice"
   ]
  },
  {
   "cell_type": "code",
   "execution_count": 5,
   "metadata": {},
   "outputs": [],
   "source": [
    "import keras\n",
    "from keras.datasets import imdb\n",
    "from keras.models import Sequential\n",
    "from keras.layers import Embedding, Dense, Flatten, Dropout, SpatialDropout1D\n",
    "from keras.layers import SimpleRNN\n",
    "from keras.preprocessing.sequence import pad_sequences\n",
    "from keras.callbacks import ModelCheckpoint\n",
    "import os\n",
    "from sklearn.metrics import roc_auc_score\n",
    "import matplotlib.pyplot as plt\n",
    "%matplotlib inline"
   ]
  },
  {
   "cell_type": "code",
   "execution_count": 2,
   "metadata": {},
   "outputs": [],
   "source": [
    "output_dir = \"../model_files/rnn/\"\n",
    "\n",
    "epochs = 16\n",
    "batch_size = 128\n",
    "n_dim = 64\n",
    "n_unique_words = 10000\n",
    "\n",
    "max_review_length = 100\n",
    "\n",
    "pad_type = trunc_type = 'pre'\n",
    "drop_emb = 0.2\n",
    "\n",
    "n_rnn = 256\n",
    "drop_rnn = 0.2"
   ]
  },
  {
   "cell_type": "markdown",
   "metadata": {},
   "source": [
    "#### Load Data"
   ]
  },
  {
   "cell_type": "code",
   "execution_count": 3,
   "metadata": {},
   "outputs": [],
   "source": [
    "(X_train, y_train), (X_val, y_val) = imdb.load_data(num_words=n_unique_words)"
   ]
  },
  {
   "cell_type": "markdown",
   "metadata": {},
   "source": [
    "#### Preprocess Data"
   ]
  },
  {
   "cell_type": "code",
   "execution_count": 6,
   "metadata": {},
   "outputs": [],
   "source": [
    "X_train = pad_sequences(X_train, maxlen=max_review_length, padding=pad_type, truncating=trunc_type, value=0)\n",
    "X_val = pad_sequences(X_val, maxlen=max_review_length, padding=pad_type, truncating=trunc_type, value=0)"
   ]
  },
  {
   "cell_type": "markdown",
   "metadata": {},
   "source": [
    "#### Design Neural Net Architecture"
   ]
  },
  {
   "cell_type": "code",
   "execution_count": 7,
   "metadata": {},
   "outputs": [],
   "source": [
    "model = Sequential()\n",
    "model.add(Embedding(n_unique_words, n_dim,input_length=max_review_length))\n",
    "model.add(SpatialDropout1D(drop_emb))\n",
    "model.add(SimpleRNN(n_rnn, dropout=drop_rnn))\n",
    "model.add(Dense(1, activation='sigmoid'))"
   ]
  },
  {
   "cell_type": "code",
   "execution_count": 8,
   "metadata": {},
   "outputs": [
    {
     "name": "stdout",
     "output_type": "stream",
     "text": [
      "_________________________________________________________________\n",
      "Layer (type)                 Output Shape              Param #   \n",
      "=================================================================\n",
      "embedding_1 (Embedding)      (None, 100, 64)           640000    \n",
      "_________________________________________________________________\n",
      "spatial_dropout1d_1 (Spatial (None, 100, 64)           0         \n",
      "_________________________________________________________________\n",
      "simple_rnn_1 (SimpleRNN)     (None, 256)               82176     \n",
      "_________________________________________________________________\n",
      "dense_1 (Dense)              (None, 1)                 257       \n",
      "=================================================================\n",
      "Total params: 722,433\n",
      "Trainable params: 722,433\n",
      "Non-trainable params: 0\n",
      "_________________________________________________________________\n"
     ]
    }
   ],
   "source": [
    "model.summary()"
   ]
  },
  {
   "cell_type": "markdown",
   "metadata": {},
   "source": [
    "#### Configure Model\n"
   ]
  },
  {
   "cell_type": "code",
   "execution_count": 9,
   "metadata": {},
   "outputs": [],
   "source": [
    "model.compile(optimizer='adam', loss='binary_crossentropy', metrics=['accuracy'])"
   ]
  },
  {
   "cell_type": "markdown",
   "metadata": {},
   "source": [
    "#### Train!!"
   ]
  },
  {
   "cell_type": "code",
   "execution_count": 10,
   "metadata": {},
   "outputs": [],
   "source": [
    "model_checkpoint = ModelCheckpoint(filepath=output_dir+\"/weights.{epoch:02d}.hdf5\")\n",
    "if not os.path.exists(output_dir):\n",
    "    os.makedirs(output_dir)"
   ]
  },
  {
   "cell_type": "code",
   "execution_count": null,
   "metadata": {},
   "outputs": [
    {
     "name": "stdout",
     "output_type": "stream",
     "text": [
      "Train on 25000 samples, validate on 25000 samples\n",
      "Epoch 1/16\n",
      "25000/25000 [==============================] - 73s 3ms/step - loss: 0.6934 - acc: 0.5206 - val_loss: 0.7225 - val_acc: 0.5018\n",
      "Epoch 2/16\n",
      "25000/25000 [==============================] - 73s 3ms/step - loss: 0.6370 - acc: 0.6277 - val_loss: 0.6396 - val_acc: 0.6115\n",
      "Epoch 3/16\n",
      "25000/25000 [==============================] - 71s 3ms/step - loss: 0.5737 - acc: 0.6926 - val_loss: 0.6398 - val_acc: 0.6262\n",
      "Epoch 4/16\n",
      "25000/25000 [==============================] - 64s 3ms/step - loss: 0.4924 - acc: 0.7566 - val_loss: 0.6494 - val_acc: 0.6414\n",
      "Epoch 5/16\n",
      "25000/25000 [==============================] - 57s 2ms/step - loss: 0.4678 - acc: 0.7755 - val_loss: 0.6323 - val_acc: 0.6710\n",
      "Epoch 6/16\n",
      "25000/25000 [==============================] - 53s 2ms/step - loss: 0.3891 - acc: 0.8243 - val_loss: 0.6904 - val_acc: 0.6509\n",
      "Epoch 7/16\n",
      "25000/25000 [==============================] - 68s 3ms/step - loss: 0.3435 - acc: 0.8478 - val_loss: 0.7609 - val_acc: 0.6087\n",
      "Epoch 8/16\n",
      "25000/25000 [==============================] - 68s 3ms/step - loss: 0.2955 - acc: 0.8755 - val_loss: 0.7612 - val_acc: 0.6372\n",
      "Epoch 9/16\n",
      "25000/25000 [==============================] - 83s 3ms/step - loss: 0.2598 - acc: 0.8936 - val_loss: 0.8290 - val_acc: 0.6878\n",
      "Epoch 10/16\n",
      " 3072/25000 [==>...........................] - ETA: 1:09 - loss: 0.2184 - acc: 0.9079"
     ]
    }
   ],
   "source": [
    "model.fit(X_train, y_train, batch_size=batch_size, epochs=epochs, verbose=1, validation_data=(X_val, y_val), \\\n",
    "         callbacks=[model_checkpoint])"
   ]
  },
  {
   "cell_type": "code",
   "execution_count": null,
   "metadata": {},
   "outputs": [],
   "source": []
  }
 ],
 "metadata": {
  "kernelspec": {
   "display_name": "Python 3",
   "language": "python",
   "name": "python3"
  },
  "language_info": {
   "codemirror_mode": {
    "name": "ipython",
    "version": 3
   },
   "file_extension": ".py",
   "mimetype": "text/x-python",
   "name": "python",
   "nbconvert_exporter": "python",
   "pygments_lexer": "ipython3",
   "version": "3.6.5"
  }
 },
 "nbformat": 4,
 "nbformat_minor": 2
}
