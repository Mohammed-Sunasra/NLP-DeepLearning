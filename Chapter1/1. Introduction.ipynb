{
 "cells": [
  {
   "cell_type": "markdown",
   "metadata": {},
   "source": [
    "## 1. Introduction:\n",
    "\n",
    "1. In this this chapter we'll understand how the NLP world has been revolutionized. Thanks to Deep Learning\n",
    "2. Next, we'll understand how NLP elements are represented\n",
    "3. Next, we'll see varioud applications of NLP in real world\n",
    "4. We then review to how run code in these series alonng with installation steps\n",
    "5. Next, we'll review the prerequisite Deep Learning theory\n",
    "6. Finally, we'll take a sneak peak into what we will learn after completing the entire series"
   ]
  },
  {
   "cell_type": "markdown",
   "metadata": {},
   "source": [
    "## 2. Why Deep Learning?\n",
    "1. Traditional machine learning required a lot of hand coded feature engineering that eats a majority portion of time in the overall model building process\n",
    "2. This hand coded also limits to the practioner's knowldege and sometimes add bias, of the area they are working on\n",
    "3. Deep Learning on the other hand, tries to extract/learn features from raw data without complex feature engineering\n",
    "4. It also handles Unsupervised data really good better than ML"
   ]
  },
  {
   "cell_type": "markdown",
   "metadata": {},
   "source": [
    "## 3. Applications of Deep Learning\n",
    "##### NLP deals with human language and hence has a tons of applications like below\n",
    "1. Speech Recognition\n",
    "2. Question answering\n",
    "3. Chatbots\n",
    "4. Language translation\n"
   ]
  },
  {
   "cell_type": "markdown",
   "metadata": {},
   "source": [
    "## 4. History of DL in NLP world\n",
    "1. Deep Learning really kicked off in 2012 after Alex krizhesvky won the ImageNet competition using a Deep CNN\n",
    "2. After that, Computer vision community started diving into DL more and more and gained immense success and breakthrough till 2015 and now it has reached to a point where most of the things are State of the art\n",
    "3. After 2015, NLP folks started adopting Deep Learning techniques that led to the success of CV and the community is reach new highs everyday thanks to Deep Learning"
   ]
  },
  {
   "cell_type": "code",
   "execution_count": null,
   "metadata": {},
   "outputs": [],
   "source": []
  }
 ],
 "metadata": {
  "kernelspec": {
   "display_name": "Python 3",
   "language": "python",
   "name": "python3"
  },
  "language_info": {
   "codemirror_mode": {
    "name": "ipython",
    "version": 3
   },
   "file_extension": ".py",
   "mimetype": "text/x-python",
   "name": "python",
   "nbconvert_exporter": "python",
   "pygments_lexer": "ipython3",
   "version": "3.6.5"
  }
 },
 "nbformat": 4,
 "nbformat_minor": 2
}
