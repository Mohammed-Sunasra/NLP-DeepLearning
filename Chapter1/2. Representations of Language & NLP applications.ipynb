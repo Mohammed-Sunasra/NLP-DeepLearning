{
 "cells": [
  {
   "cell_type": "markdown",
   "metadata": {},
   "source": [
    "## Representation of Natural Language\n",
    "1. In traditional machine learning techniqes, it wass very difficult to model the Natural language as the features were not able to capture the semantics of the language like phrases, words, similar words\n",
    "\n",
    "2. for eg: One hot representation of Hotel and Motel would be completely different features and doesn't capture any true semantics of the words\n",
    "\n",
    "3. Capturing the true represenation of words helps tremendously in solving a lot of problems like Identifying similar words for correcting typos, in QnA systems, retreving relevant information etc\n",
    "\n",
    "4. The idea to capture semantics of the language using Deep Learning is fully based on the representing the language elements(characters, words, sentences, paragraphs) as vectors in n-dimensional space\n",
    "\n",
    "5. Represention language in n-dimensional space helps in capturing the context, semantics of the language and it's elements"
   ]
  },
  {
   "cell_type": "markdown",
   "metadata": {},
   "source": [
    "## NLP applications\n",
    "##### We will be covering some intermediate NLP tasks in this course\n",
    "1. That includes text document classification\n",
    "2. Predicting next words\n",
    "3. Extracting info from text like Named Entities\n",
    "\n",
    "##### Stuff that we won't be covering is:\n",
    "1. Machine/Language translation\n",
    "2. Speech recognition"
   ]
  }
 ],
 "metadata": {
  "kernelspec": {
   "display_name": "Python 3",
   "language": "python",
   "name": "python3"
  },
  "language_info": {
   "codemirror_mode": {
    "name": "ipython",
    "version": 3
   },
   "file_extension": ".py",
   "mimetype": "text/x-python",
   "name": "python",
   "nbconvert_exporter": "python",
   "pygments_lexer": "ipython3",
   "version": "3.6.5"
  }
 },
 "nbformat": 4,
 "nbformat_minor": 2
}
